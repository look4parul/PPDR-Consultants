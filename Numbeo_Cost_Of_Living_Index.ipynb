{
 "cells": [
  {
   "cell_type": "code",
   "execution_count": 1,
   "metadata": {},
   "outputs": [],
   "source": [
    "%load_ext blackcellmagic"
   ]
  },
  {
   "cell_type": "code",
   "execution_count": 2,
   "metadata": {},
   "outputs": [],
   "source": [
    "import pandas as pd\n",
    "import requests\n",
    "import config\n",
    "import pprint\n",
    "import numpy"
   ]
  },
  {
   "cell_type": "code",
   "execution_count": 3,
   "metadata": {},
   "outputs": [],
   "source": [
    "api_key = config.api_key\n",
    "#api_key"
   ]
  },
  {
   "cell_type": "code",
   "execution_count": 4,
   "metadata": {},
   "outputs": [],
   "source": [
    "def get_coli_json(api_key):\n",
    "    url = \"https://www.numbeo.com/api/rankings_by_city_current\"\n",
    "    r = requests.get(url, params={\"api_key\": api_key, \"section\": \"1\"})\n",
    "    if r.status_code == 200:\n",
    "        r_json = r.json()\n",
    "        return r_json\n",
    "    else:\n",
    "        return None"
   ]
  },
  {
   "cell_type": "code",
   "execution_count": 5,
   "metadata": {},
   "outputs": [],
   "source": [
    "response = get_coli_json(api_key)"
   ]
  },
  {
   "cell_type": "code",
   "execution_count": 6,
   "metadata": {},
   "outputs": [],
   "source": [
    "#pprint.pprint(response)"
   ]
  },
  {
   "cell_type": "code",
   "execution_count": 7,
   "metadata": {},
   "outputs": [],
   "source": [
    "country_us = []\n",
    "coli = []\n",
    "city = []\n",
    "purchasing_power = []\n",
    "cityid = []\n",
    "top_cities = []\n",
    "topcities_coli = []"
   ]
  },
  {
   "cell_type": "code",
   "execution_count": 8,
   "metadata": {},
   "outputs": [],
   "source": [
    "response = get_coli_json(api_key)\n",
    "for r in response:\n",
    "    if r[\"country\"] == \"United States\":\n",
    "        #rank.append(i),\n",
    "        country_us.append(r[\"country\"])\n",
    "        coli.append(r[\"cpi_index\"])\n",
    "        city.append(r[\"city_name\"])\n",
    "        purchasing_power.append(r[\"purchasing_power_incl_rent_index\"])\n",
    "        cityid.append(r[\"city_id\"])\n",
    "    \n"
   ]
  },
  {
   "cell_type": "code",
   "execution_count": 9,
   "metadata": {},
   "outputs": [
    {
     "data": {
      "text/plain": [
       "58"
      ]
     },
     "execution_count": 9,
     "metadata": {},
     "output_type": "execute_result"
    }
   ],
   "source": [
    "rank = numpy.arange(1, len(country_us)+1, dtype = list)\n",
    "len(rank)"
   ]
  },
  {
   "cell_type": "code",
   "execution_count": 10,
   "metadata": {},
   "outputs": [
    {
     "data": {
      "text/plain": [
       "58"
      ]
     },
     "execution_count": 10,
     "metadata": {},
     "output_type": "execute_result"
    }
   ],
   "source": [
    "len(country_us)"
   ]
  },
  {
   "cell_type": "code",
   "execution_count": 11,
   "metadata": {},
   "outputs": [
    {
     "data": {
      "text/plain": [
       "10"
      ]
     },
     "execution_count": 11,
     "metadata": {},
     "output_type": "execute_result"
    }
   ],
   "source": [
    "top_cities_l = [\"New York\", \"San Francisco\",\"Washington\", \"Oakland\", \"Seattle\", \"Boston\", \"Chicago\", \"Minneapolis\", \"Baltimore\", \"Austin\"]\n",
    "len(top_cities_l)"
   ]
  },
  {
   "cell_type": "code",
   "execution_count": 12,
   "metadata": {},
   "outputs": [],
   "source": [
    "response = get_coli_json(api_key)\n",
    "for r1 in response:\n",
    "    if r1[\"city_name\"][:-4] in top_cities_l:\n",
    "        top_cities.append(r1[\"city_name\"][:-4])\n",
    "        topcities_coli.append(r1[\"cpi_index\"])\n",
    "        "
   ]
  },
  {
   "cell_type": "code",
   "execution_count": 13,
   "metadata": {},
   "outputs": [
    {
     "data": {
      "text/plain": [
       "10"
      ]
     },
     "execution_count": 13,
     "metadata": {},
     "output_type": "execute_result"
    }
   ],
   "source": [
    "len(top_cities)"
   ]
  },
  {
   "cell_type": "code",
   "execution_count": 14,
   "metadata": {},
   "outputs": [
    {
     "data": {
      "text/plain": [
       "10"
      ]
     },
     "execution_count": 14,
     "metadata": {},
     "output_type": "execute_result"
    }
   ],
   "source": [
    "len(topcities_coli)"
   ]
  },
  {
   "cell_type": "code",
   "execution_count": 15,
   "metadata": {},
   "outputs": [
    {
     "data": {
      "text/html": [
       "<div>\n",
       "<style scoped>\n",
       "    .dataframe tbody tr th:only-of-type {\n",
       "        vertical-align: middle;\n",
       "    }\n",
       "\n",
       "    .dataframe tbody tr th {\n",
       "        vertical-align: top;\n",
       "    }\n",
       "\n",
       "    .dataframe thead th {\n",
       "        text-align: right;\n",
       "    }\n",
       "</style>\n",
       "<table border=\"1\" class=\"dataframe\">\n",
       "  <thead>\n",
       "    <tr style=\"text-align: right;\">\n",
       "      <th></th>\n",
       "      <th>City ID</th>\n",
       "      <th>City</th>\n",
       "      <th>Country</th>\n",
       "      <th>Cost Of Living Index</th>\n",
       "      <th>Purchasing Power</th>\n",
       "    </tr>\n",
       "    <tr>\n",
       "      <th>Rank</th>\n",
       "      <th></th>\n",
       "      <th></th>\n",
       "      <th></th>\n",
       "      <th></th>\n",
       "      <th></th>\n",
       "    </tr>\n",
       "  </thead>\n",
       "  <tbody>\n",
       "    <tr>\n",
       "      <td>1</td>\n",
       "      <td>3455</td>\n",
       "      <td>New York, NY</td>\n",
       "      <td>United States</td>\n",
       "      <td>100.000000</td>\n",
       "      <td>100.000000</td>\n",
       "    </tr>\n",
       "    <tr>\n",
       "      <td>2</td>\n",
       "      <td>3483</td>\n",
       "      <td>San Francisco, CA</td>\n",
       "      <td>United States</td>\n",
       "      <td>91.507252</td>\n",
       "      <td>135.903875</td>\n",
       "    </tr>\n",
       "    <tr>\n",
       "      <td>3</td>\n",
       "      <td>3389</td>\n",
       "      <td>Anchorage, AK</td>\n",
       "      <td>United States</td>\n",
       "      <td>91.361598</td>\n",
       "      <td>118.436031</td>\n",
       "    </tr>\n",
       "    <tr>\n",
       "      <td>4</td>\n",
       "      <td>3427</td>\n",
       "      <td>Honolulu, HI</td>\n",
       "      <td>United States</td>\n",
       "      <td>89.699727</td>\n",
       "      <td>88.294402</td>\n",
       "    </tr>\n",
       "    <tr>\n",
       "      <td>5</td>\n",
       "      <td>9925</td>\n",
       "      <td>Brooklyn, NY</td>\n",
       "      <td>United States</td>\n",
       "      <td>88.820493</td>\n",
       "      <td>92.949292</td>\n",
       "    </tr>\n",
       "  </tbody>\n",
       "</table>\n",
       "</div>"
      ],
      "text/plain": [
       "      City ID               City        Country  Cost Of Living Index  \\\n",
       "Rank                                                                    \n",
       "1        3455       New York, NY  United States            100.000000   \n",
       "2        3483  San Francisco, CA  United States             91.507252   \n",
       "3        3389      Anchorage, AK  United States             91.361598   \n",
       "4        3427       Honolulu, HI  United States             89.699727   \n",
       "5        9925       Brooklyn, NY  United States             88.820493   \n",
       "\n",
       "      Purchasing Power  \n",
       "Rank                    \n",
       "1           100.000000  \n",
       "2           135.903875  \n",
       "3           118.436031  \n",
       "4            88.294402  \n",
       "5            92.949292  "
      ]
     },
     "execution_count": 15,
     "metadata": {},
     "output_type": "execute_result"
    }
   ],
   "source": [
    "raw_data = {\n",
    "    \"Rank\": rank,\n",
    "    \"City ID\": cityid,\n",
    "    \"City\": city,\n",
    "    \"Country\": country_us,\n",
    "    \"Cost Of Living Index\": coli, \n",
    "    \"Purchasing Power\": purchasing_power\n",
    "    \n",
    "}\n",
    "\n",
    "d = pd.DataFrame(raw_data)\n",
    "df_COLI = d.set_index(\"Rank\")\n",
    "df_COLI.head()"
   ]
  },
  {
   "cell_type": "code",
   "execution_count": 16,
   "metadata": {},
   "outputs": [],
   "source": [
    "df_COLI.to_csv(\"Output_Data/COLI.csv\")"
   ]
  },
  {
   "cell_type": "code",
   "execution_count": 17,
   "metadata": {},
   "outputs": [
    {
     "data": {
      "text/plain": [
       "City ID                 58\n",
       "City                    58\n",
       "Country                 58\n",
       "Cost Of Living Index    58\n",
       "Purchasing Power        58\n",
       "dtype: int64"
      ]
     },
     "execution_count": 17,
     "metadata": {},
     "output_type": "execute_result"
    }
   ],
   "source": [
    "df_COLI.count()"
   ]
  },
  {
   "cell_type": "code",
   "execution_count": null,
   "metadata": {},
   "outputs": [],
   "source": []
  },
  {
   "cell_type": "code",
   "execution_count": 18,
   "metadata": {},
   "outputs": [
    {
     "data": {
      "text/html": [
       "<div>\n",
       "<style scoped>\n",
       "    .dataframe tbody tr th:only-of-type {\n",
       "        vertical-align: middle;\n",
       "    }\n",
       "\n",
       "    .dataframe tbody tr th {\n",
       "        vertical-align: top;\n",
       "    }\n",
       "\n",
       "    .dataframe thead th {\n",
       "        text-align: right;\n",
       "    }\n",
       "</style>\n",
       "<table border=\"1\" class=\"dataframe\">\n",
       "  <thead>\n",
       "    <tr style=\"text-align: right;\">\n",
       "      <th></th>\n",
       "      <th>City</th>\n",
       "      <th>Cost Of Living Index</th>\n",
       "    </tr>\n",
       "  </thead>\n",
       "  <tbody>\n",
       "    <tr>\n",
       "      <td>0</td>\n",
       "      <td>New York</td>\n",
       "      <td>100.000000</td>\n",
       "    </tr>\n",
       "    <tr>\n",
       "      <td>1</td>\n",
       "      <td>San Francisco</td>\n",
       "      <td>91.507252</td>\n",
       "    </tr>\n",
       "    <tr>\n",
       "      <td>2</td>\n",
       "      <td>Washington</td>\n",
       "      <td>87.743153</td>\n",
       "    </tr>\n",
       "    <tr>\n",
       "      <td>3</td>\n",
       "      <td>Oakland</td>\n",
       "      <td>86.505425</td>\n",
       "    </tr>\n",
       "    <tr>\n",
       "      <td>4</td>\n",
       "      <td>Seattle</td>\n",
       "      <td>85.768964</td>\n",
       "    </tr>\n",
       "    <tr>\n",
       "      <td>5</td>\n",
       "      <td>Boston</td>\n",
       "      <td>82.871320</td>\n",
       "    </tr>\n",
       "    <tr>\n",
       "      <td>6</td>\n",
       "      <td>Chicago</td>\n",
       "      <td>80.184890</td>\n",
       "    </tr>\n",
       "    <tr>\n",
       "      <td>7</td>\n",
       "      <td>Minneapolis</td>\n",
       "      <td>76.704004</td>\n",
       "    </tr>\n",
       "    <tr>\n",
       "      <td>8</td>\n",
       "      <td>Baltimore</td>\n",
       "      <td>74.292053</td>\n",
       "    </tr>\n",
       "    <tr>\n",
       "      <td>9</td>\n",
       "      <td>Austin</td>\n",
       "      <td>67.793641</td>\n",
       "    </tr>\n",
       "  </tbody>\n",
       "</table>\n",
       "</div>"
      ],
      "text/plain": [
       "            City  Cost Of Living Index\n",
       "0       New York            100.000000\n",
       "1  San Francisco             91.507252\n",
       "2     Washington             87.743153\n",
       "3        Oakland             86.505425\n",
       "4        Seattle             85.768964\n",
       "5         Boston             82.871320\n",
       "6        Chicago             80.184890\n",
       "7    Minneapolis             76.704004\n",
       "8      Baltimore             74.292053\n",
       "9         Austin             67.793641"
      ]
     },
     "execution_count": 18,
     "metadata": {},
     "output_type": "execute_result"
    }
   ],
   "source": [
    "raw_data_top_cities = {\n",
    "    \"City\": top_cities,\n",
    "    \"Cost Of Living Index\": topcities_coli, \n",
    "       \n",
    "}\n",
    "\n",
    "df_COLInew = pd.DataFrame(raw_data_top_cities)\n",
    "#df_COLInew = d.set_index(\"Rank\")\n",
    "df_COLInew"
   ]
  },
  {
   "cell_type": "code",
   "execution_count": 19,
   "metadata": {},
   "outputs": [
    {
     "data": {
      "text/plain": [
       "City                    10\n",
       "Cost Of Living Index    10\n",
       "dtype: int64"
      ]
     },
     "execution_count": 19,
     "metadata": {},
     "output_type": "execute_result"
    }
   ],
   "source": [
    "df_COLInew.count()"
   ]
  },
  {
   "cell_type": "code",
   "execution_count": null,
   "metadata": {},
   "outputs": [],
   "source": []
  },
  {
   "cell_type": "code",
   "execution_count": 20,
   "metadata": {},
   "outputs": [],
   "source": [
    "df_COLI.to_csv(\"Output_Data/COLI_new.csv\")"
   ]
  },
  {
   "cell_type": "code",
   "execution_count": null,
   "metadata": {},
   "outputs": [],
   "source": []
  },
  {
   "cell_type": "code",
   "execution_count": null,
   "metadata": {},
   "outputs": [],
   "source": []
  }
 ],
 "metadata": {
  "kernelspec": {
   "display_name": "matplotlib-hw",
   "language": "python",
   "name": "matplotlib-hw"
  },
  "language_info": {
   "codemirror_mode": {
    "name": "ipython",
    "version": 3
   },
   "file_extension": ".py",
   "mimetype": "text/x-python",
   "name": "python",
   "nbconvert_exporter": "python",
   "pygments_lexer": "ipython3",
   "version": "3.7.4"
  }
 },
 "nbformat": 4,
 "nbformat_minor": 4
}
