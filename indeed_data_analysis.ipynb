{
 "cells": [
  {
   "cell_type": "markdown",
   "metadata": {},
   "source": [
    "# Which cities are the best for data science jobs in the USA?"
   ]
  },
  {
   "cell_type": "markdown",
   "metadata": {},
   "source": [
    "![Data Science City](data_science_city.jpg)"
   ]
  },
  {
   "cell_type": "markdown",
   "metadata": {},
   "source": [
    "# Methods\n",
    "* Define Parameters to be used\n",
    "* Data Collection\n",
    "    * Indeed API for number of jobs per city\n",
    "    * Numbeo API for cost of living per city\n",
    "    * National Center for Education Statistics\n",
    "* Data Merging\n",
    "    * Cost of Living and Number of Students\n",
    "    * Cost of Living, Number of Students and Number of Jobs by City\n",
    "    * Salary Data from Glassdoor\n",
    "* Calculated the Normalized Index for Cost of Living\n",
    "* Visualizations\n",
    "    * Average Salary Scatter\n",
    "    * City vs Normalized Cost of Living Index\n",
    "    * Education requirements for Data Science Jobs\n",
    "    * Experience Requirements for Data Science Jobs\n",
    "    * Technology Skills \n",
    "    \n"
   ]
  },
  {
   "cell_type": "markdown",
   "metadata": {},
   "source": [
    "# Parameters used to determine which cities are best:\n",
    "   * Cost of living\n",
    "   * Average Salary\n",
    "   * Number of jobs in each city for Data Science"
   ]
  },
  {
   "cell_type": "code",
   "execution_count": 2,
   "metadata": {
    "jupyter": {
     "source_hidden": true
    }
   },
   "outputs": [],
   "source": [
    "# Import the dependencies\n",
    "import matplotlib.pyplot as plt\n",
    "import pandas as pd\n",
    "import numpy as np\n",
    "import requests\n",
    "import pprint\n",
    "import json\n",
    "import re\n",
    "import csv\n",
    "import os"
   ]
  },
  {
   "cell_type": "markdown",
   "metadata": {},
   "source": [
    "## Data pulled from Indeed API\n",
    "    * Number of jobs per city is calculated"
   ]
  },
  {
   "cell_type": "code",
   "execution_count": 3,
   "metadata": {
    "jupyter": {
     "source_hidden": true
    }
   },
   "outputs": [],
   "source": [
    "# Exporting the data and creating a DataFrame\n",
    "df = pd.read_csv(\"Output_Files/indeed_data.csv\")\n",
    "indeed_df = df\n",
    "# Output File (CSV)\n",
    "output_data_file = \"../Output_Files/cleaned_indeed_jobs.csv\"\n",
    "indeed_df.drop(\"onmousedown\", axis=1, inplace=True)\n",
    "indeed_df.drop(\"indeedApply\", axis=1, inplace=True)\n",
    "indeed_df.drop(\"expired\", axis=1, inplace=True)\n",
    "indeed_df.drop(\"formattedLocationFull\", axis=1, inplace=True)\n",
    "unique_df = indeed_df.groupby([\"formattedLocation\"])[\"jobtitle\"].count()\n"
   ]
  },
  {
   "cell_type": "code",
   "execution_count": 4,
   "metadata": {
    "collapsed": true,
    "jupyter": {
     "outputs_hidden": true,
     "source_hidden": true
    }
   },
   "outputs": [
    {
     "data": {
      "text/html": [
       "<div>\n",
       "<style scoped>\n",
       "    .dataframe tbody tr th:only-of-type {\n",
       "        vertical-align: middle;\n",
       "    }\n",
       "\n",
       "    .dataframe tbody tr th {\n",
       "        vertical-align: top;\n",
       "    }\n",
       "\n",
       "    .dataframe thead th {\n",
       "        text-align: right;\n",
       "    }\n",
       "</style>\n",
       "<table border=\"1\" class=\"dataframe\">\n",
       "  <thead>\n",
       "    <tr style=\"text-align: right;\">\n",
       "      <th></th>\n",
       "      <th>index</th>\n",
       "      <th>jobtitle</th>\n",
       "    </tr>\n",
       "  </thead>\n",
       "  <tbody>\n",
       "    <tr>\n",
       "      <th>0</th>\n",
       "      <td>Ada</td>\n",
       "      <td>1</td>\n",
       "    </tr>\n",
       "    <tr>\n",
       "      <th>1</th>\n",
       "      <td>Adelphi</td>\n",
       "      <td>1</td>\n",
       "    </tr>\n",
       "    <tr>\n",
       "      <th>2</th>\n",
       "      <td>Albuquerque</td>\n",
       "      <td>2</td>\n",
       "    </tr>\n",
       "    <tr>\n",
       "      <th>3</th>\n",
       "      <td>Alexandria</td>\n",
       "      <td>3</td>\n",
       "    </tr>\n",
       "    <tr>\n",
       "      <th>4</th>\n",
       "      <td>Alpharetta</td>\n",
       "      <td>2</td>\n",
       "    </tr>\n",
       "  </tbody>\n",
       "</table>\n",
       "</div>"
      ],
      "text/plain": [
       "         index  jobtitle\n",
       "0          Ada         1\n",
       "1      Adelphi         1\n",
       "2  Albuquerque         2\n",
       "3   Alexandria         3\n",
       "4   Alpharetta         2"
      ]
     },
     "execution_count": 4,
     "metadata": {},
     "output_type": "execute_result"
    }
   ],
   "source": [
    "name_list = [unique_df.index[i].split(', ') for i in range(0, len(unique_df.index))]\n",
    "name_list = [e[0] for e in name_list]\n",
    "unique_df.index = name_list\n",
    "unique_df = unique_df.to_frame()\n",
    "unique_df = unique_df.reset_index()\n",
    "unique_df.head()"
   ]
  },
  {
   "cell_type": "markdown",
   "metadata": {},
   "source": [
    "## Cost of Living for different cities is pulled from Numbeo API"
   ]
  },
  {
   "cell_type": "code",
   "execution_count": 5,
   "metadata": {
    "jupyter": {
     "source_hidden": true
    }
   },
   "outputs": [],
   "source": [
    "# Create a dataframe with Cost of Living Index for all the cities \n",
    "df_COLI_complete = pd.read_csv(\"Output_Files/COLI.csv\")\n",
    "df_COLI_complete[\"City\"] = df_COLI_complete[\"City\"].str.slice(0, -4)\n",
    "df_COLI_complete = df_COLI_complete.drop([\"Rank\", \"City ID\", \"Country\", \"Purchasing Power\" ], axis =1)\n",
    "#df_COLI_complete.head()"
   ]
  },
  {
   "cell_type": "markdown",
   "metadata": {},
   "source": [
    "## Number of Students enrolled in 4 years degree Public university CSV pulled from \"National Center for Education Statistics\""
   ]
  },
  {
   "cell_type": "code",
   "execution_count": 6,
   "metadata": {
    "collapsed": true,
    "jupyter": {
     "outputs_hidden": true,
     "source_hidden": true
    }
   },
   "outputs": [
    {
     "data": {
      "text/html": [
       "<div>\n",
       "<style scoped>\n",
       "    .dataframe tbody tr th:only-of-type {\n",
       "        vertical-align: middle;\n",
       "    }\n",
       "\n",
       "    .dataframe tbody tr th {\n",
       "        vertical-align: top;\n",
       "    }\n",
       "\n",
       "    .dataframe thead th {\n",
       "        text-align: right;\n",
       "    }\n",
       "</style>\n",
       "<table border=\"1\" class=\"dataframe\">\n",
       "  <thead>\n",
       "    <tr style=\"text-align: right;\">\n",
       "      <th></th>\n",
       "      <th>City</th>\n",
       "      <th>Sum of Student population</th>\n",
       "    </tr>\n",
       "  </thead>\n",
       "  <tbody>\n",
       "    <tr>\n",
       "      <th>0</th>\n",
       "      <td>Miami</td>\n",
       "      <td>112915.0</td>\n",
       "    </tr>\n",
       "    <tr>\n",
       "      <th>1</th>\n",
       "      <td>New York</td>\n",
       "      <td>80709.0</td>\n",
       "    </tr>\n",
       "    <tr>\n",
       "      <th>2</th>\n",
       "      <td>Houston</td>\n",
       "      <td>79282.0</td>\n",
       "    </tr>\n",
       "    <tr>\n",
       "      <th>3</th>\n",
       "      <td>Los Angeles</td>\n",
       "      <td>72573.0</td>\n",
       "    </tr>\n",
       "    <tr>\n",
       "      <th>4</th>\n",
       "      <td>Athens</td>\n",
       "      <td>72216.0</td>\n",
       "    </tr>\n",
       "  </tbody>\n",
       "</table>\n",
       "</div>"
      ],
      "text/plain": [
       "          City  Sum of Student population\n",
       "0        Miami                   112915.0\n",
       "1     New York                    80709.0\n",
       "2      Houston                    79282.0\n",
       "3  Los Angeles                    72573.0\n",
       "4       Athens                    72216.0"
      ]
     },
     "execution_count": 6,
     "metadata": {},
     "output_type": "execute_result"
    }
   ],
   "source": [
    "df_student = pd.read_csv(\"Output_Files/School population by city.csv\")\n",
    "df_student = df_student.rename(columns={\"Row Labels\": \"City\"})\n",
    "\n",
    "df_student[\"City\"] =[df_student[\"City\"][i].lstrip() for i in range(0, len(df_student[\"City\"]))]\n",
    "df_student.head()"
   ]
  },
  {
   "cell_type": "markdown",
   "metadata": {},
   "source": [
    "## Merged the data for Cost of living, Number of Students"
   ]
  },
  {
   "cell_type": "code",
   "execution_count": 7,
   "metadata": {
    "collapsed": true,
    "jupyter": {
     "outputs_hidden": true,
     "source_hidden": true
    }
   },
   "outputs": [
    {
     "data": {
      "text/html": [
       "<div>\n",
       "<style scoped>\n",
       "    .dataframe tbody tr th:only-of-type {\n",
       "        vertical-align: middle;\n",
       "    }\n",
       "\n",
       "    .dataframe tbody tr th {\n",
       "        vertical-align: top;\n",
       "    }\n",
       "\n",
       "    .dataframe thead th {\n",
       "        text-align: right;\n",
       "    }\n",
       "</style>\n",
       "<table border=\"1\" class=\"dataframe\">\n",
       "  <thead>\n",
       "    <tr style=\"text-align: right;\">\n",
       "      <th></th>\n",
       "      <th>City</th>\n",
       "      <th>Cost Of Living Index</th>\n",
       "      <th>Sum of Student population</th>\n",
       "    </tr>\n",
       "  </thead>\n",
       "  <tbody>\n",
       "    <tr>\n",
       "      <th>0</th>\n",
       "      <td>New York</td>\n",
       "      <td>100.000000</td>\n",
       "      <td>80709.0</td>\n",
       "    </tr>\n",
       "    <tr>\n",
       "      <th>1</th>\n",
       "      <td>San Francisco</td>\n",
       "      <td>91.280893</td>\n",
       "      <td>29778.0</td>\n",
       "    </tr>\n",
       "    <tr>\n",
       "      <th>2</th>\n",
       "      <td>Anchorage</td>\n",
       "      <td>91.135599</td>\n",
       "      <td>14644.0</td>\n",
       "    </tr>\n",
       "    <tr>\n",
       "      <th>3</th>\n",
       "      <td>Honolulu</td>\n",
       "      <td>89.477840</td>\n",
       "      <td>17710.0</td>\n",
       "    </tr>\n",
       "    <tr>\n",
       "      <th>4</th>\n",
       "      <td>Brooklyn</td>\n",
       "      <td>88.600780</td>\n",
       "      <td>42068.0</td>\n",
       "    </tr>\n",
       "  </tbody>\n",
       "</table>\n",
       "</div>"
      ],
      "text/plain": [
       "            City  Cost Of Living Index  Sum of Student population\n",
       "0       New York            100.000000                    80709.0\n",
       "1  San Francisco             91.280893                    29778.0\n",
       "2      Anchorage             91.135599                    14644.0\n",
       "3       Honolulu             89.477840                    17710.0\n",
       "4       Brooklyn             88.600780                    42068.0"
      ]
     },
     "execution_count": 7,
     "metadata": {},
     "output_type": "execute_result"
    }
   ],
   "source": [
    "# Create a dataframe with Cost of Living Index and Student population for all the cities \n",
    "df_col_complete_student = pd.merge(df_COLI_complete, df_student, how=\"left\", on=\"City\")\n",
    "df_col_complete_student.head()"
   ]
  },
  {
   "cell_type": "markdown",
   "metadata": {},
   "source": [
    "## Merged the data for Cost of living, Number of Students and Number of Jobs on \"City\""
   ]
  },
  {
   "cell_type": "code",
   "execution_count": 8,
   "metadata": {
    "collapsed": true,
    "jupyter": {
     "outputs_hidden": true,
     "source_hidden": true
    }
   },
   "outputs": [
    {
     "data": {
      "text/html": [
       "<div>\n",
       "<style scoped>\n",
       "    .dataframe tbody tr th:only-of-type {\n",
       "        vertical-align: middle;\n",
       "    }\n",
       "\n",
       "    .dataframe tbody tr th {\n",
       "        vertical-align: top;\n",
       "    }\n",
       "\n",
       "    .dataframe thead th {\n",
       "        text-align: right;\n",
       "    }\n",
       "</style>\n",
       "<table border=\"1\" class=\"dataframe\">\n",
       "  <thead>\n",
       "    <tr style=\"text-align: right;\">\n",
       "      <th></th>\n",
       "      <th>City</th>\n",
       "      <th>Cost Of Living Index</th>\n",
       "      <th>Sum of Student population</th>\n",
       "      <th>No.of Jobs</th>\n",
       "    </tr>\n",
       "  </thead>\n",
       "  <tbody>\n",
       "    <tr>\n",
       "      <th>0</th>\n",
       "      <td>New York</td>\n",
       "      <td>100.000000</td>\n",
       "      <td>80709.0</td>\n",
       "      <td>52.0</td>\n",
       "    </tr>\n",
       "    <tr>\n",
       "      <th>1</th>\n",
       "      <td>San Francisco</td>\n",
       "      <td>91.280893</td>\n",
       "      <td>29778.0</td>\n",
       "      <td>29.0</td>\n",
       "    </tr>\n",
       "    <tr>\n",
       "      <th>2</th>\n",
       "      <td>Anchorage</td>\n",
       "      <td>91.135599</td>\n",
       "      <td>14644.0</td>\n",
       "      <td>1.0</td>\n",
       "    </tr>\n",
       "    <tr>\n",
       "      <th>3</th>\n",
       "      <td>Honolulu</td>\n",
       "      <td>89.477840</td>\n",
       "      <td>17710.0</td>\n",
       "      <td>NaN</td>\n",
       "    </tr>\n",
       "    <tr>\n",
       "      <th>4</th>\n",
       "      <td>Brooklyn</td>\n",
       "      <td>88.600780</td>\n",
       "      <td>42068.0</td>\n",
       "      <td>NaN</td>\n",
       "    </tr>\n",
       "  </tbody>\n",
       "</table>\n",
       "</div>"
      ],
      "text/plain": [
       "            City  Cost Of Living Index  Sum of Student population  No.of Jobs\n",
       "0       New York            100.000000                    80709.0        52.0\n",
       "1  San Francisco             91.280893                    29778.0        29.0\n",
       "2      Anchorage             91.135599                    14644.0         1.0\n",
       "3       Honolulu             89.477840                    17710.0         NaN\n",
       "4       Brooklyn             88.600780                    42068.0         NaN"
      ]
     },
     "execution_count": 8,
     "metadata": {},
     "output_type": "execute_result"
    }
   ],
   "source": [
    "df_coli_complete_student_jobs = pd.merge(df_col_complete_student, unique_df, how=\"left\", left_on=\"City\", right_on=\"index\")\n",
    "df_coli_complete_student_jobs.drop(\"index\", axis=1, inplace=True)\n",
    "df_coli_complete_student_jobs.rename(columns={\"jobtitle\": \"No.of Jobs\"}, inplace=True)\n",
    "df_coli_complete_student_jobs.head()"
   ]
  },
  {
   "cell_type": "code",
   "execution_count": 9,
   "metadata": {
    "jupyter": {
     "source_hidden": true
    }
   },
   "outputs": [],
   "source": [
    "# Upload average salaries from glassdoor\n",
    "df_salary = pd.read_csv(\"Output_Files/COLI w average salary.csv\")\n",
    "\n",
    "df_salary[\"City\"] = [df_salary[\"City\"][i].split(', ')[0] for i in range(0, len(df_salary[\"City\"]))]\n",
    "#df_salary.head()"
   ]
  },
  {
   "cell_type": "markdown",
   "metadata": {},
   "source": [
    "## Merged the salary data from glassdoor to the dataframe"
   ]
  },
  {
   "cell_type": "code",
   "execution_count": 10,
   "metadata": {
    "collapsed": true,
    "jupyter": {
     "outputs_hidden": true,
     "source_hidden": true
    }
   },
   "outputs": [
    {
     "data": {
      "text/html": [
       "<div>\n",
       "<style scoped>\n",
       "    .dataframe tbody tr th:only-of-type {\n",
       "        vertical-align: middle;\n",
       "    }\n",
       "\n",
       "    .dataframe tbody tr th {\n",
       "        vertical-align: top;\n",
       "    }\n",
       "\n",
       "    .dataframe thead th {\n",
       "        text-align: right;\n",
       "    }\n",
       "</style>\n",
       "<table border=\"1\" class=\"dataframe\">\n",
       "  <thead>\n",
       "    <tr style=\"text-align: right;\">\n",
       "      <th></th>\n",
       "      <th>City</th>\n",
       "      <th>Cost Of Living Index</th>\n",
       "      <th>Sum of Student population</th>\n",
       "      <th>No.of Jobs</th>\n",
       "      <th>Data Science Average Salary</th>\n",
       "      <th>Data Scientist Low</th>\n",
       "      <th>Data Scientist High</th>\n",
       "      <th>Average Pay vs National Avg</th>\n",
       "      <th>Data Analyst Average Salary</th>\n",
       "      <th>Data Analyst Low</th>\n",
       "      <th>Data Analysts High</th>\n",
       "      <th>Average Pay vs National Avg.1</th>\n",
       "      <th>Data Engineer Average Salary</th>\n",
       "      <th>Data Engineer Low</th>\n",
       "      <th>Data Engineer High</th>\n",
       "      <th>Average Pay vs National Avg.2</th>\n",
       "      <th>Data Architect Average Salary</th>\n",
       "      <th>Data Architect Low</th>\n",
       "      <th>Data Architect High</th>\n",
       "      <th>Average Pay vs National Avg.3</th>\n",
       "    </tr>\n",
       "  </thead>\n",
       "  <tbody>\n",
       "    <tr>\n",
       "      <th>0</th>\n",
       "      <td>New York</td>\n",
       "      <td>100.000000</td>\n",
       "      <td>80709.0</td>\n",
       "      <td>52.0</td>\n",
       "      <td>$95,342.00</td>\n",
       "      <td>$73,000.00</td>\n",
       "      <td>$125,000.00</td>\n",
       "      <td>0%</td>\n",
       "      <td>$56,071.00</td>\n",
       "      <td>$39,000.00</td>\n",
       "      <td>$77,000.00</td>\n",
       "      <td>7%</td>\n",
       "      <td>$93,392.00</td>\n",
       "      <td>$69,000.00</td>\n",
       "      <td>$132,000.00</td>\n",
       "      <td>7%</td>\n",
       "      <td>$88,150.00</td>\n",
       "      <td>$66,000.00</td>\n",
       "      <td>$114,000.00</td>\n",
       "      <td>6%</td>\n",
       "    </tr>\n",
       "    <tr>\n",
       "      <th>1</th>\n",
       "      <td>San Francisco</td>\n",
       "      <td>91.280893</td>\n",
       "      <td>29778.0</td>\n",
       "      <td>29.0</td>\n",
       "      <td>$119,907.00</td>\n",
       "      <td>$93,000.00</td>\n",
       "      <td>$154,000.00</td>\n",
       "      <td>26%</td>\n",
       "      <td>$70,015.00</td>\n",
       "      <td>$49,000.00</td>\n",
       "      <td>$95,000.00</td>\n",
       "      <td>33%</td>\n",
       "      <td>$107,660.00</td>\n",
       "      <td>$81,000.00</td>\n",
       "      <td>$149,000.00</td>\n",
       "      <td>24%</td>\n",
       "      <td>$101,802.00</td>\n",
       "      <td>$77,000.00</td>\n",
       "      <td>$130,000.00</td>\n",
       "      <td>23%</td>\n",
       "    </tr>\n",
       "    <tr>\n",
       "      <th>2</th>\n",
       "      <td>Anchorage</td>\n",
       "      <td>91.135599</td>\n",
       "      <td>14644.0</td>\n",
       "      <td>1.0</td>\n",
       "      <td>$92,896.00</td>\n",
       "      <td>$72,000.00</td>\n",
       "      <td>$121,000.00</td>\n",
       "      <td>-3%</td>\n",
       "      <td>$55,024.00</td>\n",
       "      <td>$38,000.00</td>\n",
       "      <td>$75,000.00</td>\n",
       "      <td>5%</td>\n",
       "      <td>$84,834.00</td>\n",
       "      <td>$63,000.00</td>\n",
       "      <td>$121,000.00</td>\n",
       "      <td>-3%</td>\n",
       "      <td>$86,783.00</td>\n",
       "      <td>$66,000.00</td>\n",
       "      <td>$112,000.00</td>\n",
       "      <td>5%</td>\n",
       "    </tr>\n",
       "    <tr>\n",
       "      <th>3</th>\n",
       "      <td>Honolulu</td>\n",
       "      <td>89.477840</td>\n",
       "      <td>17710.0</td>\n",
       "      <td>NaN</td>\n",
       "      <td>$87,004.00</td>\n",
       "      <td>$67,000.00</td>\n",
       "      <td>$114,000.00</td>\n",
       "      <td>-9%</td>\n",
       "      <td>$52,013.00</td>\n",
       "      <td>$36,000.00</td>\n",
       "      <td>$71,000.00</td>\n",
       "      <td>-1%</td>\n",
       "      <td>$79,596.00</td>\n",
       "      <td>$59,000.00</td>\n",
       "      <td>$114,000.00</td>\n",
       "      <td>-9%</td>\n",
       "      <td>$81,169.00</td>\n",
       "      <td>$61,000.00</td>\n",
       "      <td>$105,000.00</td>\n",
       "      <td>-2%</td>\n",
       "    </tr>\n",
       "    <tr>\n",
       "      <th>4</th>\n",
       "      <td>Brooklyn</td>\n",
       "      <td>88.600780</td>\n",
       "      <td>42068.0</td>\n",
       "      <td>NaN</td>\n",
       "      <td>$95,342.00</td>\n",
       "      <td>$73,000.00</td>\n",
       "      <td>$125,000.00</td>\n",
       "      <td>0%</td>\n",
       "      <td>$56,071.00</td>\n",
       "      <td>$39,000.00</td>\n",
       "      <td>$77,000.00</td>\n",
       "      <td>7%</td>\n",
       "      <td>$93,392.00</td>\n",
       "      <td>$69,000.00</td>\n",
       "      <td>$132,000.00</td>\n",
       "      <td>7%</td>\n",
       "      <td>$88,150.00</td>\n",
       "      <td>$66,000.00</td>\n",
       "      <td>$114,000.00</td>\n",
       "      <td>6%</td>\n",
       "    </tr>\n",
       "  </tbody>\n",
       "</table>\n",
       "</div>"
      ],
      "text/plain": [
       "            City  Cost Of Living Index  Sum of Student population  No.of Jobs  \\\n",
       "0       New York            100.000000                    80709.0        52.0   \n",
       "1  San Francisco             91.280893                    29778.0        29.0   \n",
       "2      Anchorage             91.135599                    14644.0         1.0   \n",
       "3       Honolulu             89.477840                    17710.0         NaN   \n",
       "4       Brooklyn             88.600780                    42068.0         NaN   \n",
       "\n",
       "  Data Science Average Salary Data Scientist Low Data Scientist High  \\\n",
       "0                 $95,342.00         $73,000.00         $125,000.00    \n",
       "1                $119,907.00         $93,000.00         $154,000.00    \n",
       "2                 $92,896.00         $72,000.00         $121,000.00    \n",
       "3                 $87,004.00         $67,000.00         $114,000.00    \n",
       "4                 $95,342.00         $73,000.00         $125,000.00    \n",
       "\n",
       "  Average Pay vs National Avg Data Analyst Average Salary Data Analyst Low  \\\n",
       "0                          0%                 $56,071.00       $39,000.00    \n",
       "1                         26%                 $70,015.00       $49,000.00    \n",
       "2                         -3%                 $55,024.00       $38,000.00    \n",
       "3                         -9%                 $52,013.00       $36,000.00    \n",
       "4                          0%                 $56,071.00       $39,000.00    \n",
       "\n",
       "  Data Analysts High Average Pay vs National Avg.1  \\\n",
       "0        $77,000.00                             7%   \n",
       "1        $95,000.00                            33%   \n",
       "2        $75,000.00                             5%   \n",
       "3        $71,000.00                            -1%   \n",
       "4        $77,000.00                             7%   \n",
       "\n",
       "  Data Engineer Average Salary Data Engineer Low Data Engineer High  \\\n",
       "0                  $93,392.00        $69,000.00        $132,000.00    \n",
       "1                 $107,660.00        $81,000.00        $149,000.00    \n",
       "2                  $84,834.00        $63,000.00        $121,000.00    \n",
       "3                  $79,596.00        $59,000.00        $114,000.00    \n",
       "4                  $93,392.00        $69,000.00        $132,000.00    \n",
       "\n",
       "  Average Pay vs National Avg.2 Data Architect Average Salary  \\\n",
       "0                            7%                   $88,150.00    \n",
       "1                           24%                  $101,802.00    \n",
       "2                           -3%                   $86,783.00    \n",
       "3                           -9%                   $81,169.00    \n",
       "4                            7%                   $88,150.00    \n",
       "\n",
       "  Data Architect Low Data Architect High Average Pay vs National Avg.3  \n",
       "0        $66,000.00         $114,000.00                             6%  \n",
       "1        $77,000.00         $130,000.00                            23%  \n",
       "2        $66,000.00         $112,000.00                             5%  \n",
       "3        $61,000.00         $105,000.00                            -2%  \n",
       "4        $66,000.00         $114,000.00                             6%  "
      ]
     },
     "execution_count": 10,
     "metadata": {},
     "output_type": "execute_result"
    }
   ],
   "source": [
    "df_coli_complete_student_jobs_salary = pd.merge(df_coli_complete_student_jobs, df_salary, how=\"left\", left_on=\"City\", right_on=\"City\")\n",
    "df_coli_complete_student_jobs_salary = df_coli_complete_student_jobs_salary.drop([\"Rank\", \"City ID\", \"Country\", \"Purchasing Power\", \"Cost Of Living Index_y\"], axis =1)\n",
    "df_coli_complete_student_jobs_salary = df_coli_complete_student_jobs_salary.rename(columns={\"Cost Of Living Index_x\": \"Cost Of Living Index\"})\n",
    "df_coli_complete_student_jobs_salary.head()"
   ]
  },
  {
   "cell_type": "markdown",
   "metadata": {},
   "source": [
    "## Merged the Average Salary information"
   ]
  },
  {
   "cell_type": "code",
   "execution_count": 11,
   "metadata": {
    "jupyter": {
     "source_hidden": true
    }
   },
   "outputs": [],
   "source": [
    "cities = df_COLI_complete[\"City\"]"
   ]
  },
  {
   "cell_type": "code",
   "execution_count": 12,
   "metadata": {
    "jupyter": {
     "source_hidden": true
    }
   },
   "outputs": [],
   "source": [
    "avg_salary = [134331.00, 161743.00, 103574.00, 100336.00, 100336.00, 125697.00, 92615.00, 123915.00, 123915.00,\n",
    "              155451.00, 115912.00, 93041.00, 122194.00, 146202.00, 114914.00, 100372.00, 108227.00, 108994.00,\n",
    "              120914.00, 104564.00, 115589.00, 114337.00, 129231.00, 106862.00, 100161.00, 112906.00, 112906.00,\n",
    "              134233.00, 116869.00, 105176.00, 114054.00, 95440.00, 105575.00, 161022.00, 102829.00, 114153.00, \n",
    "              110652.00, 94649.00, 115614.00, 84254.00, 114744.00, 93872.00, 145960.00, 101190.00, 126357.00,\n",
    "              96366.00, 100331.00, 127686.00, 115351.00, 119778.00, 99338.00, 110173.00, 95783.00, 114947.00, \n",
    "              115129.00, 94929.00, 95729.00, 90917.00]"
   ]
  },
  {
   "cell_type": "code",
   "execution_count": 13,
   "metadata": {
    "jupyter": {
     "source_hidden": true
    }
   },
   "outputs": [],
   "source": [
    "df_indeed_salary = pd.DataFrame({\"Avg Salary Indeed\": avg_salary,\n",
    "                                \"City\": cities\n",
    "                                })"
   ]
  },
  {
   "cell_type": "code",
   "execution_count": 14,
   "metadata": {
    "collapsed": true,
    "jupyter": {
     "outputs_hidden": true,
     "source_hidden": true
    }
   },
   "outputs": [
    {
     "data": {
      "text/html": [
       "<div>\n",
       "<style scoped>\n",
       "    .dataframe tbody tr th:only-of-type {\n",
       "        vertical-align: middle;\n",
       "    }\n",
       "\n",
       "    .dataframe tbody tr th {\n",
       "        vertical-align: top;\n",
       "    }\n",
       "\n",
       "    .dataframe thead th {\n",
       "        text-align: right;\n",
       "    }\n",
       "</style>\n",
       "<table border=\"1\" class=\"dataframe\">\n",
       "  <thead>\n",
       "    <tr style=\"text-align: right;\">\n",
       "      <th></th>\n",
       "      <th>City</th>\n",
       "      <th>No.of Jobs</th>\n",
       "      <th>Avg Salary Indeed</th>\n",
       "      <th>Cost Of Living Index</th>\n",
       "      <th>Sum of Student population</th>\n",
       "      <th>Data Science Average Salary</th>\n",
       "      <th>Data Scientist Low</th>\n",
       "      <th>Data Scientist High</th>\n",
       "      <th>Average Pay vs National Avg</th>\n",
       "      <th>Data Analyst Average Salary</th>\n",
       "      <th>...</th>\n",
       "      <th>Data Analysts High</th>\n",
       "      <th>Average Pay vs National Avg.1</th>\n",
       "      <th>Data Engineer Average Salary</th>\n",
       "      <th>Data Engineer Low</th>\n",
       "      <th>Data Engineer High</th>\n",
       "      <th>Average Pay vs National Avg.2</th>\n",
       "      <th>Data Architect Average Salary</th>\n",
       "      <th>Data Architect Low</th>\n",
       "      <th>Data Architect High</th>\n",
       "      <th>Average Pay vs National Avg.3</th>\n",
       "    </tr>\n",
       "  </thead>\n",
       "  <tbody>\n",
       "    <tr>\n",
       "      <th>0</th>\n",
       "      <td>New York</td>\n",
       "      <td>52.0</td>\n",
       "      <td>134331.0</td>\n",
       "      <td>100.000000</td>\n",
       "      <td>80709.0</td>\n",
       "      <td>$95,342.00</td>\n",
       "      <td>$73,000.00</td>\n",
       "      <td>$125,000.00</td>\n",
       "      <td>0%</td>\n",
       "      <td>$56,071.00</td>\n",
       "      <td>...</td>\n",
       "      <td>$77,000.00</td>\n",
       "      <td>7%</td>\n",
       "      <td>$93,392.00</td>\n",
       "      <td>$69,000.00</td>\n",
       "      <td>$132,000.00</td>\n",
       "      <td>7%</td>\n",
       "      <td>$88,150.00</td>\n",
       "      <td>$66,000.00</td>\n",
       "      <td>$114,000.00</td>\n",
       "      <td>6%</td>\n",
       "    </tr>\n",
       "    <tr>\n",
       "      <th>1</th>\n",
       "      <td>San Francisco</td>\n",
       "      <td>29.0</td>\n",
       "      <td>161743.0</td>\n",
       "      <td>91.280893</td>\n",
       "      <td>29778.0</td>\n",
       "      <td>$119,907.00</td>\n",
       "      <td>$93,000.00</td>\n",
       "      <td>$154,000.00</td>\n",
       "      <td>26%</td>\n",
       "      <td>$70,015.00</td>\n",
       "      <td>...</td>\n",
       "      <td>$95,000.00</td>\n",
       "      <td>33%</td>\n",
       "      <td>$107,660.00</td>\n",
       "      <td>$81,000.00</td>\n",
       "      <td>$149,000.00</td>\n",
       "      <td>24%</td>\n",
       "      <td>$101,802.00</td>\n",
       "      <td>$77,000.00</td>\n",
       "      <td>$130,000.00</td>\n",
       "      <td>23%</td>\n",
       "    </tr>\n",
       "    <tr>\n",
       "      <th>2</th>\n",
       "      <td>Anchorage</td>\n",
       "      <td>1.0</td>\n",
       "      <td>103574.0</td>\n",
       "      <td>91.135599</td>\n",
       "      <td>14644.0</td>\n",
       "      <td>$92,896.00</td>\n",
       "      <td>$72,000.00</td>\n",
       "      <td>$121,000.00</td>\n",
       "      <td>-3%</td>\n",
       "      <td>$55,024.00</td>\n",
       "      <td>...</td>\n",
       "      <td>$75,000.00</td>\n",
       "      <td>5%</td>\n",
       "      <td>$84,834.00</td>\n",
       "      <td>$63,000.00</td>\n",
       "      <td>$121,000.00</td>\n",
       "      <td>-3%</td>\n",
       "      <td>$86,783.00</td>\n",
       "      <td>$66,000.00</td>\n",
       "      <td>$112,000.00</td>\n",
       "      <td>5%</td>\n",
       "    </tr>\n",
       "    <tr>\n",
       "      <th>3</th>\n",
       "      <td>Honolulu</td>\n",
       "      <td>NaN</td>\n",
       "      <td>100336.0</td>\n",
       "      <td>89.477840</td>\n",
       "      <td>17710.0</td>\n",
       "      <td>$87,004.00</td>\n",
       "      <td>$67,000.00</td>\n",
       "      <td>$114,000.00</td>\n",
       "      <td>-9%</td>\n",
       "      <td>$52,013.00</td>\n",
       "      <td>...</td>\n",
       "      <td>$71,000.00</td>\n",
       "      <td>-1%</td>\n",
       "      <td>$79,596.00</td>\n",
       "      <td>$59,000.00</td>\n",
       "      <td>$114,000.00</td>\n",
       "      <td>-9%</td>\n",
       "      <td>$81,169.00</td>\n",
       "      <td>$61,000.00</td>\n",
       "      <td>$105,000.00</td>\n",
       "      <td>-2%</td>\n",
       "    </tr>\n",
       "    <tr>\n",
       "      <th>4</th>\n",
       "      <td>Brooklyn</td>\n",
       "      <td>NaN</td>\n",
       "      <td>100336.0</td>\n",
       "      <td>88.600780</td>\n",
       "      <td>42068.0</td>\n",
       "      <td>$95,342.00</td>\n",
       "      <td>$73,000.00</td>\n",
       "      <td>$125,000.00</td>\n",
       "      <td>0%</td>\n",
       "      <td>$56,071.00</td>\n",
       "      <td>...</td>\n",
       "      <td>$77,000.00</td>\n",
       "      <td>7%</td>\n",
       "      <td>$93,392.00</td>\n",
       "      <td>$69,000.00</td>\n",
       "      <td>$132,000.00</td>\n",
       "      <td>7%</td>\n",
       "      <td>$88,150.00</td>\n",
       "      <td>$66,000.00</td>\n",
       "      <td>$114,000.00</td>\n",
       "      <td>6%</td>\n",
       "    </tr>\n",
       "  </tbody>\n",
       "</table>\n",
       "<p>5 rows × 21 columns</p>\n",
       "</div>"
      ],
      "text/plain": [
       "            City  No.of Jobs  Avg Salary Indeed  Cost Of Living Index  \\\n",
       "0       New York        52.0           134331.0            100.000000   \n",
       "1  San Francisco        29.0           161743.0             91.280893   \n",
       "2      Anchorage         1.0           103574.0             91.135599   \n",
       "3       Honolulu         NaN           100336.0             89.477840   \n",
       "4       Brooklyn         NaN           100336.0             88.600780   \n",
       "\n",
       "   Sum of Student population Data Science Average Salary Data Scientist Low  \\\n",
       "0                    80709.0                 $95,342.00         $73,000.00    \n",
       "1                    29778.0                $119,907.00         $93,000.00    \n",
       "2                    14644.0                 $92,896.00         $72,000.00    \n",
       "3                    17710.0                 $87,004.00         $67,000.00    \n",
       "4                    42068.0                 $95,342.00         $73,000.00    \n",
       "\n",
       "  Data Scientist High Average Pay vs National Avg Data Analyst Average Salary  \\\n",
       "0        $125,000.00                           0%                 $56,071.00    \n",
       "1        $154,000.00                          26%                 $70,015.00    \n",
       "2        $121,000.00                          -3%                 $55,024.00    \n",
       "3        $114,000.00                          -9%                 $52,013.00    \n",
       "4        $125,000.00                           0%                 $56,071.00    \n",
       "\n",
       "   ... Data Analysts High Average Pay vs National Avg.1  \\\n",
       "0  ...        $77,000.00                             7%   \n",
       "1  ...        $95,000.00                            33%   \n",
       "2  ...        $75,000.00                             5%   \n",
       "3  ...        $71,000.00                            -1%   \n",
       "4  ...        $77,000.00                             7%   \n",
       "\n",
       "  Data Engineer Average Salary Data Engineer Low Data Engineer High  \\\n",
       "0                  $93,392.00        $69,000.00        $132,000.00    \n",
       "1                 $107,660.00        $81,000.00        $149,000.00    \n",
       "2                  $84,834.00        $63,000.00        $121,000.00    \n",
       "3                  $79,596.00        $59,000.00        $114,000.00    \n",
       "4                  $93,392.00        $69,000.00        $132,000.00    \n",
       "\n",
       "  Average Pay vs National Avg.2 Data Architect Average Salary  \\\n",
       "0                            7%                   $88,150.00    \n",
       "1                           24%                  $101,802.00    \n",
       "2                           -3%                   $86,783.00    \n",
       "3                           -9%                   $81,169.00    \n",
       "4                            7%                   $88,150.00    \n",
       "\n",
       "  Data Architect Low Data Architect High Average Pay vs National Avg.3  \n",
       "0        $66,000.00         $114,000.00                             6%  \n",
       "1        $77,000.00         $130,000.00                            23%  \n",
       "2        $66,000.00         $112,000.00                             5%  \n",
       "3        $61,000.00         $105,000.00                            -2%  \n",
       "4        $66,000.00         $114,000.00                             6%  \n",
       "\n",
       "[5 rows x 21 columns]"
      ]
     },
     "execution_count": 14,
     "metadata": {},
     "output_type": "execute_result"
    }
   ],
   "source": [
    "df_col_complete_student_jobs_salary_final = pd.merge(df_coli_complete_student_jobs_salary, df_indeed_salary, how=\"left\", left_on=\"City\", right_on=\"City\")\n",
    "df_col_complete_student_jobs_salary_final = df_col_complete_student_jobs_salary_final[['City', 'No.of Jobs', 'Avg Salary Indeed', 'Cost Of Living Index',\n",
    "                                                'Sum of Student population', 'Data Science Average Salary', 'Data Scientist Low',\n",
    "                                                'Data Scientist High','Average Pay vs National Avg', 'Data Analyst Average Salary',\n",
    "                                                'Data Analyst Low', 'Data Analysts High', 'Average Pay vs National Avg.1', \n",
    "                                                'Data Engineer Average Salary','Data Engineer Low', 'Data Engineer High', \n",
    "                                                'Average Pay vs National Avg.2', 'Data Architect Average Salary', \n",
    "                                                'Data Architect Low', 'Data Architect High', 'Average Pay vs National Avg.3']]\n",
    "df_col_complete_student_jobs_salary_final.head()"
   ]
  },
  {
   "cell_type": "markdown",
   "metadata": {},
   "source": [
    "## Formula Used to Calculate Normalized Index = (1/(%Cost Of Living Index)) x Avg Salary / NY Avg Salary"
   ]
  },
  {
   "cell_type": "code",
   "execution_count": 15,
   "metadata": {
    "jupyter": {
     "source_hidden": true
    }
   },
   "outputs": [],
   "source": [
    "# Extracting the salary of New york into a variable\n",
    "New_York_Salary = df_col_complete_student_jobs_salary_final.loc[df_col_complete_student_jobs_salary_final['City'] == \"New York\"][\"Avg Salary Indeed\"]\n",
    "# Calculate the index based on average salary and cost of living of every city and normalize it for New york\n",
    "list = np.array([(100*df_col_complete_student_jobs_salary_final[\"Avg Salary Indeed\"][i]/\\\n",
    "                                                           df_col_complete_student_jobs_salary_final[\"Cost Of Living Index\"][i])/New_York_Salary for i in range(0,len(df_col_complete_student_jobs_salary_final))]).tolist()\n",
    "# Flattening the list of lists and assigning it to a new coloumn in dataframe\n",
    "df_col_complete_student_jobs_salary_final[\"SalaryCOLIndex\"] = [y for x in list for y in x]\n",
    "# Rearranging the order of the columns as desired\n",
    "df_col_complete_student_jobs_salary_final =df_col_complete_student_jobs_salary_final[['City', 'No.of Jobs', 'Avg Salary Indeed','Cost Of Living Index',\"SalaryCOLIndex\", 'Sum of Student population',\n",
    "        'Data Science Average Salary', 'Data Scientist Low',\n",
    "       'Data Scientist High', 'Average Pay vs National Avg',\n",
    "       'Data Analyst Average Salary', 'Data Analyst Low', 'Data Analysts High',\n",
    "       'Average Pay vs National Avg.1', 'Data Engineer Average Salary',\n",
    "       'Data Engineer Low', 'Data Engineer High',\n",
    "       'Average Pay vs National Avg.2', 'Data Architect Average Salary',\n",
    "       'Data Architect Low', 'Data Architect High',\n",
    "       'Average Pay vs National Avg.3']]\n",
    "#df_col_complete_student_jobs_salary_final.head()"
   ]
  },
  {
   "cell_type": "markdown",
   "metadata": {},
   "source": [
    "## Complete dataFrame"
   ]
  },
  {
   "cell_type": "code",
   "execution_count": 16,
   "metadata": {
    "collapsed": true,
    "jupyter": {
     "outputs_hidden": true,
     "source_hidden": true
    }
   },
   "outputs": [
    {
     "data": {
      "text/html": [
       "<div>\n",
       "<style scoped>\n",
       "    .dataframe tbody tr th:only-of-type {\n",
       "        vertical-align: middle;\n",
       "    }\n",
       "\n",
       "    .dataframe tbody tr th {\n",
       "        vertical-align: top;\n",
       "    }\n",
       "\n",
       "    .dataframe thead th {\n",
       "        text-align: right;\n",
       "    }\n",
       "</style>\n",
       "<table border=\"1\" class=\"dataframe\">\n",
       "  <thead>\n",
       "    <tr style=\"text-align: right;\">\n",
       "      <th></th>\n",
       "      <th>City</th>\n",
       "      <th>No.of Jobs</th>\n",
       "      <th>Avg Salary Indeed</th>\n",
       "      <th>Cost Of Living Index</th>\n",
       "      <th>SalaryCOLIndex</th>\n",
       "      <th>Sum of Student population</th>\n",
       "      <th>Data Science Average Salary</th>\n",
       "      <th>Data Scientist Low</th>\n",
       "      <th>Data Scientist High</th>\n",
       "      <th>Average Pay vs National Avg</th>\n",
       "      <th>...</th>\n",
       "      <th>Data Analysts High</th>\n",
       "      <th>Average Pay vs National Avg.1</th>\n",
       "      <th>Data Engineer Average Salary</th>\n",
       "      <th>Data Engineer Low</th>\n",
       "      <th>Data Engineer High</th>\n",
       "      <th>Average Pay vs National Avg.2</th>\n",
       "      <th>Data Architect Average Salary</th>\n",
       "      <th>Data Architect Low</th>\n",
       "      <th>Data Architect High</th>\n",
       "      <th>Average Pay vs National Avg.3</th>\n",
       "    </tr>\n",
       "  </thead>\n",
       "  <tbody>\n",
       "    <tr>\n",
       "      <th>0</th>\n",
       "      <td>New York</td>\n",
       "      <td>52.0</td>\n",
       "      <td>134331.0</td>\n",
       "      <td>100.000000</td>\n",
       "      <td>1.000000</td>\n",
       "      <td>80709.0</td>\n",
       "      <td>$95,342.00</td>\n",
       "      <td>$73,000.00</td>\n",
       "      <td>$125,000.00</td>\n",
       "      <td>0%</td>\n",
       "      <td>...</td>\n",
       "      <td>$77,000.00</td>\n",
       "      <td>7%</td>\n",
       "      <td>$93,392.00</td>\n",
       "      <td>$69,000.00</td>\n",
       "      <td>$132,000.00</td>\n",
       "      <td>7%</td>\n",
       "      <td>$88,150.00</td>\n",
       "      <td>$66,000.00</td>\n",
       "      <td>$114,000.00</td>\n",
       "      <td>6%</td>\n",
       "    </tr>\n",
       "    <tr>\n",
       "      <th>1</th>\n",
       "      <td>San Francisco</td>\n",
       "      <td>29.0</td>\n",
       "      <td>161743.0</td>\n",
       "      <td>91.280893</td>\n",
       "      <td>1.319075</td>\n",
       "      <td>29778.0</td>\n",
       "      <td>$119,907.00</td>\n",
       "      <td>$93,000.00</td>\n",
       "      <td>$154,000.00</td>\n",
       "      <td>26%</td>\n",
       "      <td>...</td>\n",
       "      <td>$95,000.00</td>\n",
       "      <td>33%</td>\n",
       "      <td>$107,660.00</td>\n",
       "      <td>$81,000.00</td>\n",
       "      <td>$149,000.00</td>\n",
       "      <td>24%</td>\n",
       "      <td>$101,802.00</td>\n",
       "      <td>$77,000.00</td>\n",
       "      <td>$130,000.00</td>\n",
       "      <td>23%</td>\n",
       "    </tr>\n",
       "    <tr>\n",
       "      <th>2</th>\n",
       "      <td>Anchorage</td>\n",
       "      <td>1.0</td>\n",
       "      <td>103574.0</td>\n",
       "      <td>91.135599</td>\n",
       "      <td>0.846031</td>\n",
       "      <td>14644.0</td>\n",
       "      <td>$92,896.00</td>\n",
       "      <td>$72,000.00</td>\n",
       "      <td>$121,000.00</td>\n",
       "      <td>-3%</td>\n",
       "      <td>...</td>\n",
       "      <td>$75,000.00</td>\n",
       "      <td>5%</td>\n",
       "      <td>$84,834.00</td>\n",
       "      <td>$63,000.00</td>\n",
       "      <td>$121,000.00</td>\n",
       "      <td>-3%</td>\n",
       "      <td>$86,783.00</td>\n",
       "      <td>$66,000.00</td>\n",
       "      <td>$112,000.00</td>\n",
       "      <td>5%</td>\n",
       "    </tr>\n",
       "    <tr>\n",
       "      <th>3</th>\n",
       "      <td>Honolulu</td>\n",
       "      <td>NaN</td>\n",
       "      <td>100336.0</td>\n",
       "      <td>89.477840</td>\n",
       "      <td>0.834767</td>\n",
       "      <td>17710.0</td>\n",
       "      <td>$87,004.00</td>\n",
       "      <td>$67,000.00</td>\n",
       "      <td>$114,000.00</td>\n",
       "      <td>-9%</td>\n",
       "      <td>...</td>\n",
       "      <td>$71,000.00</td>\n",
       "      <td>-1%</td>\n",
       "      <td>$79,596.00</td>\n",
       "      <td>$59,000.00</td>\n",
       "      <td>$114,000.00</td>\n",
       "      <td>-9%</td>\n",
       "      <td>$81,169.00</td>\n",
       "      <td>$61,000.00</td>\n",
       "      <td>$105,000.00</td>\n",
       "      <td>-2%</td>\n",
       "    </tr>\n",
       "    <tr>\n",
       "      <th>4</th>\n",
       "      <td>Brooklyn</td>\n",
       "      <td>NaN</td>\n",
       "      <td>100336.0</td>\n",
       "      <td>88.600780</td>\n",
       "      <td>0.843030</td>\n",
       "      <td>42068.0</td>\n",
       "      <td>$95,342.00</td>\n",
       "      <td>$73,000.00</td>\n",
       "      <td>$125,000.00</td>\n",
       "      <td>0%</td>\n",
       "      <td>...</td>\n",
       "      <td>$77,000.00</td>\n",
       "      <td>7%</td>\n",
       "      <td>$93,392.00</td>\n",
       "      <td>$69,000.00</td>\n",
       "      <td>$132,000.00</td>\n",
       "      <td>7%</td>\n",
       "      <td>$88,150.00</td>\n",
       "      <td>$66,000.00</td>\n",
       "      <td>$114,000.00</td>\n",
       "      <td>6%</td>\n",
       "    </tr>\n",
       "  </tbody>\n",
       "</table>\n",
       "<p>5 rows × 22 columns</p>\n",
       "</div>"
      ],
      "text/plain": [
       "            City  No.of Jobs  Avg Salary Indeed  Cost Of Living Index  \\\n",
       "0       New York        52.0           134331.0            100.000000   \n",
       "1  San Francisco        29.0           161743.0             91.280893   \n",
       "2      Anchorage         1.0           103574.0             91.135599   \n",
       "3       Honolulu         NaN           100336.0             89.477840   \n",
       "4       Brooklyn         NaN           100336.0             88.600780   \n",
       "\n",
       "   SalaryCOLIndex  Sum of Student population Data Science Average Salary  \\\n",
       "0        1.000000                    80709.0                 $95,342.00    \n",
       "1        1.319075                    29778.0                $119,907.00    \n",
       "2        0.846031                    14644.0                 $92,896.00    \n",
       "3        0.834767                    17710.0                 $87,004.00    \n",
       "4        0.843030                    42068.0                 $95,342.00    \n",
       "\n",
       "  Data Scientist Low Data Scientist High Average Pay vs National Avg  ...  \\\n",
       "0        $73,000.00         $125,000.00                           0%  ...   \n",
       "1        $93,000.00         $154,000.00                          26%  ...   \n",
       "2        $72,000.00         $121,000.00                          -3%  ...   \n",
       "3        $67,000.00         $114,000.00                          -9%  ...   \n",
       "4        $73,000.00         $125,000.00                           0%  ...   \n",
       "\n",
       "  Data Analysts High Average Pay vs National Avg.1  \\\n",
       "0        $77,000.00                             7%   \n",
       "1        $95,000.00                            33%   \n",
       "2        $75,000.00                             5%   \n",
       "3        $71,000.00                            -1%   \n",
       "4        $77,000.00                             7%   \n",
       "\n",
       "  Data Engineer Average Salary Data Engineer Low Data Engineer High  \\\n",
       "0                  $93,392.00        $69,000.00        $132,000.00    \n",
       "1                 $107,660.00        $81,000.00        $149,000.00    \n",
       "2                  $84,834.00        $63,000.00        $121,000.00    \n",
       "3                  $79,596.00        $59,000.00        $114,000.00    \n",
       "4                  $93,392.00        $69,000.00        $132,000.00    \n",
       "\n",
       "  Average Pay vs National Avg.2 Data Architect Average Salary  \\\n",
       "0                            7%                   $88,150.00    \n",
       "1                           24%                  $101,802.00    \n",
       "2                           -3%                   $86,783.00    \n",
       "3                           -9%                   $81,169.00    \n",
       "4                            7%                   $88,150.00    \n",
       "\n",
       "  Data Architect Low Data Architect High Average Pay vs National Avg.3  \n",
       "0        $66,000.00         $114,000.00                             6%  \n",
       "1        $77,000.00         $130,000.00                            23%  \n",
       "2        $66,000.00         $112,000.00                             5%  \n",
       "3        $61,000.00         $105,000.00                            -2%  \n",
       "4        $66,000.00         $114,000.00                             6%  \n",
       "\n",
       "[5 rows x 22 columns]"
      ]
     },
     "execution_count": 16,
     "metadata": {},
     "output_type": "execute_result"
    }
   ],
   "source": [
    "df_col_complete_student_jobs_salary_final.head()"
   ]
  },
  {
   "cell_type": "code",
   "execution_count": 17,
   "metadata": {
    "collapsed": true,
    "jupyter": {
     "outputs_hidden": true,
     "source_hidden": true
    }
   },
   "outputs": [
    {
     "data": {
      "text/html": [
       "<div>\n",
       "<style scoped>\n",
       "    .dataframe tbody tr th:only-of-type {\n",
       "        vertical-align: middle;\n",
       "    }\n",
       "\n",
       "    .dataframe tbody tr th {\n",
       "        vertical-align: top;\n",
       "    }\n",
       "\n",
       "    .dataframe thead th {\n",
       "        text-align: right;\n",
       "    }\n",
       "</style>\n",
       "<table border=\"1\" class=\"dataframe\">\n",
       "  <thead>\n",
       "    <tr style=\"text-align: right;\">\n",
       "      <th></th>\n",
       "      <th>City</th>\n",
       "      <th>No.of Jobs</th>\n",
       "      <th>Avg Salary Indeed</th>\n",
       "      <th>Cost Of Living Index</th>\n",
       "      <th>SalaryCOLIndex</th>\n",
       "      <th>Sum of Student population</th>\n",
       "      <th>Data Science Average Salary</th>\n",
       "      <th>Data Scientist Low</th>\n",
       "      <th>Data Scientist High</th>\n",
       "      <th>Average Pay vs National Avg</th>\n",
       "      <th>...</th>\n",
       "      <th>Data Analysts High</th>\n",
       "      <th>Average Pay vs National Avg.1</th>\n",
       "      <th>Data Engineer Average Salary</th>\n",
       "      <th>Data Engineer Low</th>\n",
       "      <th>Data Engineer High</th>\n",
       "      <th>Average Pay vs National Avg.2</th>\n",
       "      <th>Data Architect Average Salary</th>\n",
       "      <th>Data Architect Low</th>\n",
       "      <th>Data Architect High</th>\n",
       "      <th>Average Pay vs National Avg.3</th>\n",
       "    </tr>\n",
       "  </thead>\n",
       "  <tbody>\n",
       "    <tr>\n",
       "      <th>0</th>\n",
       "      <td>New York</td>\n",
       "      <td>52.0</td>\n",
       "      <td>134331.0</td>\n",
       "      <td>100.000000</td>\n",
       "      <td>1.000000</td>\n",
       "      <td>80709.0</td>\n",
       "      <td>$95,342.00</td>\n",
       "      <td>$73,000.00</td>\n",
       "      <td>$125,000.00</td>\n",
       "      <td>0%</td>\n",
       "      <td>...</td>\n",
       "      <td>$77,000.00</td>\n",
       "      <td>7%</td>\n",
       "      <td>$93,392.00</td>\n",
       "      <td>$69,000.00</td>\n",
       "      <td>$132,000.00</td>\n",
       "      <td>7%</td>\n",
       "      <td>$88,150.00</td>\n",
       "      <td>$66,000.00</td>\n",
       "      <td>$114,000.00</td>\n",
       "      <td>6%</td>\n",
       "    </tr>\n",
       "    <tr>\n",
       "      <th>1</th>\n",
       "      <td>San Francisco</td>\n",
       "      <td>29.0</td>\n",
       "      <td>161743.0</td>\n",
       "      <td>91.280893</td>\n",
       "      <td>1.319075</td>\n",
       "      <td>29778.0</td>\n",
       "      <td>$119,907.00</td>\n",
       "      <td>$93,000.00</td>\n",
       "      <td>$154,000.00</td>\n",
       "      <td>26%</td>\n",
       "      <td>...</td>\n",
       "      <td>$95,000.00</td>\n",
       "      <td>33%</td>\n",
       "      <td>$107,660.00</td>\n",
       "      <td>$81,000.00</td>\n",
       "      <td>$149,000.00</td>\n",
       "      <td>24%</td>\n",
       "      <td>$101,802.00</td>\n",
       "      <td>$77,000.00</td>\n",
       "      <td>$130,000.00</td>\n",
       "      <td>23%</td>\n",
       "    </tr>\n",
       "    <tr>\n",
       "      <th>8</th>\n",
       "      <td>Seattle</td>\n",
       "      <td>27.0</td>\n",
       "      <td>123915.0</td>\n",
       "      <td>85.556800</td>\n",
       "      <td>1.078185</td>\n",
       "      <td>47400.0</td>\n",
       "      <td>$106,358.00</td>\n",
       "      <td>$83,000.00</td>\n",
       "      <td>$137,000.00</td>\n",
       "      <td>11%</td>\n",
       "      <td>...</td>\n",
       "      <td>$76,000.00</td>\n",
       "      <td>6%</td>\n",
       "      <td>$87,612.00</td>\n",
       "      <td>$66,000.00</td>\n",
       "      <td>$124,000.00</td>\n",
       "      <td>1%</td>\n",
       "      <td>$88,133.00</td>\n",
       "      <td>$67,000.00</td>\n",
       "      <td>$114,000.00</td>\n",
       "      <td>6%</td>\n",
       "    </tr>\n",
       "    <tr>\n",
       "      <th>9</th>\n",
       "      <td>Boston</td>\n",
       "      <td>21.0</td>\n",
       "      <td>123915.0</td>\n",
       "      <td>82.666323</td>\n",
       "      <td>1.115884</td>\n",
       "      <td>16164.0</td>\n",
       "      <td>$93,032.00</td>\n",
       "      <td>$71,000.00</td>\n",
       "      <td>$121,000.00</td>\n",
       "      <td>-3%</td>\n",
       "      <td>...</td>\n",
       "      <td>$76,000.00</td>\n",
       "      <td>5%</td>\n",
       "      <td>$82,256.00</td>\n",
       "      <td>$61,000.00</td>\n",
       "      <td>$118,000.00</td>\n",
       "      <td>-5%</td>\n",
       "      <td>$86,720.00</td>\n",
       "      <td>$66,000.00</td>\n",
       "      <td>$112,000.00</td>\n",
       "      <td>5%</td>\n",
       "    </tr>\n",
       "    <tr>\n",
       "      <th>11</th>\n",
       "      <td>Chicago</td>\n",
       "      <td>21.0</td>\n",
       "      <td>115912.0</td>\n",
       "      <td>79.986539</td>\n",
       "      <td>1.078786</td>\n",
       "      <td>42750.0</td>\n",
       "      <td>$86,460.00</td>\n",
       "      <td>$66,000.00</td>\n",
       "      <td>$113,000.00</td>\n",
       "      <td>-10%</td>\n",
       "      <td>...</td>\n",
       "      <td>$70,000.00</td>\n",
       "      <td>-3%</td>\n",
       "      <td>$79,689.00</td>\n",
       "      <td>$59,000.00</td>\n",
       "      <td>$115.00</td>\n",
       "      <td>-8%</td>\n",
       "      <td>$88,069.00</td>\n",
       "      <td>$67,000.00</td>\n",
       "      <td>$113,000.00</td>\n",
       "      <td>6%</td>\n",
       "    </tr>\n",
       "  </tbody>\n",
       "</table>\n",
       "<p>5 rows × 22 columns</p>\n",
       "</div>"
      ],
      "text/plain": [
       "             City  No.of Jobs  Avg Salary Indeed  Cost Of Living Index  \\\n",
       "0        New York        52.0           134331.0            100.000000   \n",
       "1   San Francisco        29.0           161743.0             91.280893   \n",
       "8         Seattle        27.0           123915.0             85.556800   \n",
       "9          Boston        21.0           123915.0             82.666323   \n",
       "11        Chicago        21.0           115912.0             79.986539   \n",
       "\n",
       "    SalaryCOLIndex  Sum of Student population Data Science Average Salary  \\\n",
       "0         1.000000                    80709.0                 $95,342.00    \n",
       "1         1.319075                    29778.0                $119,907.00    \n",
       "8         1.078185                    47400.0                $106,358.00    \n",
       "9         1.115884                    16164.0                 $93,032.00    \n",
       "11        1.078786                    42750.0                 $86,460.00    \n",
       "\n",
       "   Data Scientist Low Data Scientist High Average Pay vs National Avg  ...  \\\n",
       "0         $73,000.00         $125,000.00                           0%  ...   \n",
       "1         $93,000.00         $154,000.00                          26%  ...   \n",
       "8         $83,000.00         $137,000.00                          11%  ...   \n",
       "9         $71,000.00         $121,000.00                          -3%  ...   \n",
       "11        $66,000.00         $113,000.00                         -10%  ...   \n",
       "\n",
       "   Data Analysts High Average Pay vs National Avg.1  \\\n",
       "0         $77,000.00                             7%   \n",
       "1         $95,000.00                            33%   \n",
       "8         $76,000.00                             6%   \n",
       "9         $76,000.00                             5%   \n",
       "11        $70,000.00                            -3%   \n",
       "\n",
       "   Data Engineer Average Salary Data Engineer Low Data Engineer High  \\\n",
       "0                   $93,392.00        $69,000.00        $132,000.00    \n",
       "1                  $107,660.00        $81,000.00        $149,000.00    \n",
       "8                   $87,612.00        $66,000.00        $124,000.00    \n",
       "9                   $82,256.00        $61,000.00        $118,000.00    \n",
       "11                  $79,689.00        $59,000.00            $115.00    \n",
       "\n",
       "   Average Pay vs National Avg.2 Data Architect Average Salary  \\\n",
       "0                             7%                   $88,150.00    \n",
       "1                            24%                  $101,802.00    \n",
       "8                             1%                   $88,133.00    \n",
       "9                            -5%                   $86,720.00    \n",
       "11                           -8%                   $88,069.00    \n",
       "\n",
       "   Data Architect Low Data Architect High Average Pay vs National Avg.3  \n",
       "0         $66,000.00         $114,000.00                             6%  \n",
       "1         $77,000.00         $130,000.00                            23%  \n",
       "8         $67,000.00         $114,000.00                             6%  \n",
       "9         $66,000.00         $112,000.00                             5%  \n",
       "11        $67,000.00         $113,000.00                             6%  \n",
       "\n",
       "[5 rows x 22 columns]"
      ]
     },
     "execution_count": 17,
     "metadata": {},
     "output_type": "execute_result"
    }
   ],
   "source": [
    "df_col_complete_student_jobs_salary_final = df_col_complete_student_jobs_salary_final.sort_values(by=['No.of Jobs'], ascending=False)\n",
    "df_col_complete_student_jobs_salary_final.head()"
   ]
  },
  {
   "cell_type": "markdown",
   "metadata": {},
   "source": [
    "# Average Salary Scatter"
   ]
  },
  {
   "cell_type": "code",
   "execution_count": 32,
   "metadata": {
    "jupyter": {
     "source_hidden": true
    }
   },
   "outputs": [
    {
     "data": {
      "text/plain": [
       "Text(0, 0.5, 'Salary')"
      ]
     },
     "execution_count": 32,
     "metadata": {},
     "output_type": "execute_result"
    },
    {
     "data": {
      "image/png": "[encoded data removed]",
      "text/plain": [
       "<Figure size 432x288 with 1 Axes>"
      ]
     },
     "metadata": {
      "needs_background": "light"
     },
     "output_type": "display_data"
    }
   ],
   "source": [
    "x = df_col_complete_student_jobs_salary_final['Cost Of Living Index']\n",
    "y = df_col_complete_student_jobs_salary_final['Avg Salary Indeed']\n",
    "plt.scatter(x, y)\n",
    "z = np.polyfit(x, y, 1)\n",
    "p = np.poly1d(z)\n",
    "plt.plot(x,p(x),\"r--\")\n",
    "plt.title('Average Salary vs Cost of Living Index')\n",
    "plt.xlabel('Cost of Living Index')\n",
    "plt.ylabel('Salary')\n"
   ]
  },
  {
   "cell_type": "markdown",
   "metadata": {},
   "source": [
    "# Cities Vs. Normalized Cost Of Living Index"
   ]
  },
  {
   "cell_type": "code",
   "execution_count": 19,
   "metadata": {
    "jupyter": {
     "source_hidden": true
    }
   },
   "outputs": [
    {
     "data": {
      "image/png": "[encoded data removed]",
      "text/plain": [
       "<Figure size 1440x720 with 1 Axes>"
      ]
     },
     "metadata": {
      "needs_background": "light"
     },
     "output_type": "display_data"
    },
    {
     "data": {
      "text/plain": [
       "<Figure size 432x288 with 0 Axes>"
      ]
     },
     "metadata": {},
     "output_type": "display_data"
    }
   ],
   "source": [
    "# Graph to plot number of cureent jobs Vs Citites\n",
    "df_SalaryCOLIndex_Cities = df_col_complete_student_jobs_salary_final.sort_values(by=['SalaryCOLIndex'], ascending=False)\n",
    "#df_SalaryCOLIndex_Cities.columns\n",
    "df_SalaryCOLIndex_Cities = df_SalaryCOLIndex_Cities[['City', 'No.of Jobs', 'Avg Salary Indeed','Cost Of Living Index',\"SalaryCOLIndex\", \"Sum of Student population\"]]\n",
    "df_SalaryCOLIndex_Cities.head()\n",
    "#df_final[\"SalaryCOLIndex\"].values\n",
    "plt.figure(figsize=(20,10))\n",
    "plt.xlabel(\"City\")\n",
    "plt.title(\"City Vs Cost Of lIving Index\")\n",
    "plt.xticks(rotation='vertical')\n",
    "# plt.yticks(ticks=df_final[\"SalaryCOLIndex\"], labels=df_final[\"SalaryCOLIndex\"].values.tolist())\n",
    "plt.bar(df_SalaryCOLIndex_Cities[\"City\"],df_SalaryCOLIndex_Cities[\"SalaryCOLIndex\"] -1)\n",
    "plt.show()\n",
    "# Save t he plots in another folder\n",
    "plt.savefig(\"Plots/CitiesVsCOLI.png\")"
   ]
  },
  {
   "cell_type": "markdown",
   "metadata": {},
   "source": [
    "# Education requuirements for Data Science jobs"
   ]
  },
  {
   "cell_type": "code",
   "execution_count": 28,
   "metadata": {
    "jupyter": {
     "source_hidden": true
    }
   },
   "outputs": [
    {
     "data": {
      "image/png": "[encoded data removed]",
      "text/plain": [
       "<Figure size 1152x288 with 1 Axes>"
      ]
     },
     "metadata": {
      "needs_background": "light"
     },
     "output_type": "display_data"
    }
   ],
   "source": [
    "# Education requirement for the Jobs\n",
    "def has_bachelor(s):\n",
    "    return (\n",
    "        bool(re.search(r\"bachelors?'?s?\", s, re.IGNORECASE)) or\n",
    "        bool(re.search(r\"\\sB\\.?A\\.?\\s\", s, re.IGNORECASE)) or\n",
    "        bool(re.search(r\"\\sB\\.?S\\.?\\s\", s, re.IGNORECASE))\n",
    "    )\n",
    "def has_masters(s):\n",
    "    return (\n",
    "        bool(re.search(r\"masters?'?s?\\s\", s, re.IGNORECASE)) or\n",
    "        bool(re.search(r\"\\sM\\.?A\\.?\\s\", s, re.IGNORECASE)) or\n",
    "        bool(re.search(r\"\\sM\\.?S\\.?\\s\", s, re.IGNORECASE)) or\n",
    "        bool(re.search(r\"M\\.?B\\.?A\\.?\\s\", s, re.IGNORECASE))\n",
    "    )\n",
    "def has_phd(s):\n",
    "    return(\n",
    "        (bool(re.search(r\"Ph\\.?d\", s, re.IGNORECASE))) \n",
    "    )\n",
    "education_df = pd.DataFrame({\n",
    "    \"Bachelor's\": indeed_df[\"snippet\"].apply(has_bachelor).value_counts(())[1],\n",
    "    \"Master's\": indeed_df[\"snippet\"].apply(has_masters).value_counts(())[1],\n",
    "    \"Phd\": indeed_df[\"snippet\"].apply(has_phd).value_counts(())[1],\n",
    "},index=[\"Education\"])\n",
    "education_df.plot(kind='barh', figsize=(16,4), align='edge', width=.4)\n",
    "plt.xlabel(\"Count of References in Snippet\")\n",
    "plt.title('Education References in the Snippet')\n",
    "education_df\n",
    "# Save the plots in another folder\n",
    "\n",
    "\n",
    "plt.savefig(\"Plots/EducationVSCount.png\")"
   ]
  },
  {
   "cell_type": "markdown",
   "metadata": {},
   "source": [
    "* We used regex to find education requirements for Data Science jobs."
   ]
  },
  {
   "cell_type": "markdown",
   "metadata": {},
   "source": [
    "# Number of years of experience requirement for the Data Science Jobs"
   ]
  },
  {
   "cell_type": "code",
   "execution_count": 21,
   "metadata": {
    "jupyter": {
     "source_hidden": true
    }
   },
   "outputs": [],
   "source": [
    "def extract_years_only(s):\n",
    "    results = re.findall(r\"([0-9]*)\\+?.[yY]ear.*\", s)\n",
    "    if results and results[0]:\n",
    "        return int(results[0])\n",
    "    else:\n",
    "        return np.nan"
   ]
  },
  {
   "cell_type": "code",
   "execution_count": 22,
   "metadata": {
    "jupyter": {
     "source_hidden": true
    }
   },
   "outputs": [],
   "source": [
    "years = df[\"snippet\"].apply(lambda s: extract_years_only(s))\n",
    "df_years=pd.DataFrame(years.value_counts().sort_index())"
   ]
  },
  {
   "cell_type": "code",
   "execution_count": 34,
   "metadata": {
    "jupyter": {
     "source_hidden": true
    }
   },
   "outputs": [
    {
     "data": {
      "image/png": "[encoded data removed]",
      "text/plain": [
       "<Figure size 1152x576 with 1 Axes>"
      ]
     },
     "metadata": {
      "needs_background": "light"
     },
     "output_type": "display_data"
    }
   ],
   "source": [
    "df_years=df_years.rename(columns={\"snippet\":\"No. of jobs\"})\n",
    "df_years.index.name =\"Required No.of Years of Experience\"\n",
    "\n",
    "df_years.plot(kind='bar', figsize=(16,8))\n",
    "plt.title('Years Experience vs Number of Jobs')\n",
    "plt.ylabel('Number of Jobs')\n",
    "# Save t he plots in another folder\n",
    "plt.savefig(\"Plots/YearsofExpVsJobCount.png\")"
   ]
  },
  {
   "cell_type": "markdown",
   "metadata": {},
   "source": [
    "* We used regex to find required number of years of Experience."
   ]
  },
  {
   "cell_type": "code",
   "execution_count": 24,
   "metadata": {
    "collapsed": true,
    "jupyter": {
     "outputs_hidden": true,
     "source_hidden": true
    }
   },
   "outputs": [
    {
     "data": {
      "text/plain": [
       "95"
      ]
     },
     "execution_count": 24,
     "metadata": {},
     "output_type": "execute_result"
    }
   ],
   "source": [
    "df_years[\"No. of jobs\"].sum()"
   ]
  },
  {
   "cell_type": "markdown",
   "metadata": {},
   "source": [
    "# Which Technology skills are in most demand"
   ]
  },
  {
   "cell_type": "code",
   "execution_count": 25,
   "metadata": {
    "jupyter": {
     "source_hidden": true
    }
   },
   "outputs": [],
   "source": [
    "def extract_tech_count(s, tech):\n",
    "    result_count = re.findall(tech, s)\n",
    "\n",
    "    if result_count:\n",
    "        return len(result_count)\n",
    "    else:\n",
    "        return np.nan"
   ]
  },
  {
   "cell_type": "code",
   "execution_count": 36,
   "metadata": {
    "jupyter": {
     "source_hidden": true
    }
   },
   "outputs": [
    {
     "data": {
      "image/png": "[encoded data removed]",
      "text/plain": [
       "<Figure size 1152x576 with 1 Axes>"
      ]
     },
     "metadata": {
      "needs_background": "light"
     },
     "output_type": "display_data"
    }
   ],
   "source": [
    "df_tech = pd.DataFrame(columns={\"Tech\", \"No.ofJobs\"})\n",
    "tech_list = [\"Python\",\" R \",\"SQL\",\"Tableau\", \"Java\", \"AWS\", \"Hadoop\", \"Spark\", \"Machine Learning\", \"AI\", \"Excel\"]\n",
    "\n",
    "sample = df[\"snippet\"]\n",
    "\n",
    "for tech in tech_list:\n",
    "    count =0\n",
    "    job_tech = sample.apply(lambda s: extract_tech_count(s, tech))\n",
    "  \n",
    "    for i in range(0, len(job_tech)):\n",
    "   \n",
    "        if(pd.notna(job_tech[i])):\n",
    "            count += 1\n",
    "        else:\n",
    "            continue\n",
    "    tech_list_count = pd.DataFrame({\"Tech\":[tech], \"No.ofJobs\":[count]})\n",
    "    df_tech = df_tech.append(tech_list_count)\n",
    "\n",
    "df_tech = df_tech.sort_values(by = \"No.ofJobs\", ascending = False)\n",
    "df_tech.set_index(\"Tech\")\n",
    "plt.figure(figsize=(16,8))\n",
    "plt.bar(df_tech[\"Tech\"],df_tech[\"No.ofJobs\"] )\n",
    "plt.xticks(rotation=45)\n",
    "plt.title('Skills in Demand for Data Science Positions')\n",
    "plt.ylabel('Number of Jobs')\n",
    "plt.xlabel('Skills in Demand')\n",
    "# Save t he plots in another folder\n",
    "plt.savefig(\"Plots/TechnologyVsCount.png\")"
   ]
  },
  {
   "cell_type": "markdown",
   "metadata": {},
   "source": [
    "* We used regex to find top skills in the demand"
   ]
  }
 ],
 "metadata": {
  "kernelspec": {
   "display_name": "pandas-hw",
   "language": "python",
   "name": "pandas-hw"
  },
  "language_info": {
   "codemirror_mode": {
    "name": "ipython",
    "version": 3
   },
   "file_extension": ".py",
   "mimetype": "text/x-python",
   "name": "python",
   "nbconvert_exporter": "python",
   "pygments_lexer": "ipython3",
   "version": "3.7.6"
  }
 },
 "nbformat": 4,
 "nbformat_minor": 4
}
