{
 "cells": [
  {
   "cell_type": "code",
   "execution_count": 1,
   "metadata": {},
   "outputs": [],
   "source": [
    "%load_ext blackcellmagic"
   ]
  },
  {
   "cell_type": "code",
   "execution_count": 3,
   "metadata": {},
   "outputs": [],
   "source": [
    "import pandas as pd\n",
    "import requests\n",
    "import config\n",
    "import pprint\n",
    "import numpy"
   ]
  },
  {
   "cell_type": "code",
   "execution_count": 4,
   "metadata": {},
   "outputs": [
    {
     "ename": "NameError",
     "evalue": "name 'config' is not defined",
     "output_type": "error",
     "traceback": [
      "\u001b[1;31m---------------------------------------------------------------------------\u001b[0m",
      "\u001b[1;31mNameError\u001b[0m                                 Traceback (most recent call last)",
      "\u001b[1;32m<ipython-input-4-469b5e7d0896>\u001b[0m in \u001b[0;36m<module>\u001b[1;34m\u001b[0m\n\u001b[1;32m----> 1\u001b[1;33m \u001b[0mapi_key\u001b[0m \u001b[1;33m=\u001b[0m \u001b[0mconfig\u001b[0m\u001b[1;33m.\u001b[0m\u001b[0mapi_key\u001b[0m\u001b[1;33m\u001b[0m\u001b[1;33m\u001b[0m\u001b[0m\n\u001b[0m\u001b[0;32m      2\u001b[0m \u001b[1;31m#api_key\u001b[0m\u001b[1;33m\u001b[0m\u001b[1;33m\u001b[0m\u001b[1;33m\u001b[0m\u001b[0m\n",
      "\u001b[1;31mNameError\u001b[0m: name 'config' is not defined"
     ]
    }
   ],
   "source": [
    "api_key = config.api_key\n",
    "#api_key"
   ]
  },
  {
   "cell_type": "code",
   "execution_count": null,
   "metadata": {},
   "outputs": [],
   "source": [
    "def get_coli_json(api_key):\n",
    "    url = \"https://www.numbeo.com/api/rankings_by_city_current\"\n",
    "    r = requests.get(url, params={\"api_key\": api_key, \"section\": \"1\"})\n",
    "    if r.status_code == 200:\n",
    "        r_json = r.json()\n",
    "        return r_json\n",
    "    else:\n",
    "        return None"
   ]
  },
  {
   "cell_type": "code",
   "execution_count": null,
   "metadata": {},
   "outputs": [],
   "source": [
    "response = get_coli_json(api_key)"
   ]
  },
  {
   "cell_type": "code",
   "execution_count": null,
   "metadata": {},
   "outputs": [],
   "source": [
    "#pprint.pprint(response)"
   ]
  },
  {
   "cell_type": "code",
   "execution_count": null,
   "metadata": {},
   "outputs": [],
   "source": [
    "country_us = []\n",
    "coli = []\n",
    "city = []\n",
    "purchasing_power = []\n",
    "cityid = []\n",
    "top_cities = []\n",
    "topcities_coli = []"
   ]
  },
  {
   "cell_type": "code",
   "execution_count": null,
   "metadata": {},
   "outputs": [],
   "source": [
    "response = get_coli_json(api_key)\n",
    "for r in response:\n",
    "    if r[\"country\"] == \"United States\":\n",
    "        #rank.append(i),\n",
    "        country_us.append(r[\"country\"])\n",
    "        coli.append(r[\"cpi_index\"])\n",
    "        city.append(r[\"city_name\"])\n",
    "        purchasing_power.append(r[\"purchasing_power_incl_rent_index\"])\n",
    "        cityid.append(r[\"city_id\"])\n",
    "    \n"
   ]
  },
  {
   "cell_type": "code",
   "execution_count": null,
   "metadata": {},
   "outputs": [],
   "source": [
    "rank = numpy.arange(1, len(country_us)+1, dtype = list)\n",
    "len(rank)"
   ]
  },
  {
   "cell_type": "code",
   "execution_count": null,
   "metadata": {},
   "outputs": [],
   "source": [
    "len(country_us)"
   ]
  },
  {
   "cell_type": "code",
   "execution_count": null,
   "metadata": {},
   "outputs": [],
   "source": [
    "top_cities_l = [\"New York\", \"San Francisco\",\"Washington\", \"Seattle\", \"Boston\", \n",
    "                \"Chicago\", \"Austin\", \"Charlotte\", \"Atlanta\", \"Reston\"]\n",
    "len(top_cities_l)"
   ]
  },
  {
   "cell_type": "code",
   "execution_count": null,
   "metadata": {},
   "outputs": [],
   "source": [
    "response = get_coli_json(api_key)\n",
    "for r1 in response:\n",
    "    if r1[\"city_name\"][:-4] in top_cities_l:\n",
    "        top_cities.append(r1[\"city_name\"][:-4])\n",
    "        topcities_coli.append(r1[\"cpi_index\"])\n",
    "        "
   ]
  },
  {
   "cell_type": "code",
   "execution_count": null,
   "metadata": {},
   "outputs": [],
   "source": [
    "len(top_cities)"
   ]
  },
  {
   "cell_type": "code",
   "execution_count": null,
   "metadata": {},
   "outputs": [],
   "source": [
    "len(topcities_coli)"
   ]
  },
  {
   "cell_type": "code",
   "execution_count": null,
   "metadata": {},
   "outputs": [],
   "source": [
    "raw_data = {\n",
    "    \"Rank\": rank,\n",
    "    \"City ID\": cityid,\n",
    "    \"City\": city,\n",
    "    \"Country\": country_us,\n",
    "    \"Cost Of Living Index\": coli, \n",
    "    \"Purchasing Power\": purchasing_power\n",
    "    \n",
    "}\n",
    "\n",
    "d = pd.DataFrame(raw_data)\n",
    "df_COLI = d.set_index(\"Rank\")\n",
    "df_COLI.head()"
   ]
  },
  {
   "cell_type": "code",
   "execution_count": null,
   "metadata": {},
   "outputs": [],
   "source": [
    "df_COLI.to_csv(\"Output_Data/COLI.csv\")"
   ]
  },
  {
   "cell_type": "code",
   "execution_count": null,
   "metadata": {},
   "outputs": [],
   "source": [
    "df_COLI.count()"
   ]
  },
  {
   "cell_type": "code",
   "execution_count": null,
   "metadata": {},
   "outputs": [],
   "source": []
  },
  {
   "cell_type": "code",
   "execution_count": null,
   "metadata": {},
   "outputs": [],
   "source": [
    "raw_data_top_cities = {\n",
    "    \"City\": top_cities,\n",
    "    \"Cost Of Living Index\": topcities_coli, \n",
    "       \n",
    "}\n",
    "\n",
    "df_COLInew = pd.DataFrame(raw_data_top_cities)\n",
    "#df_COLInew = d.set_index(\"Rank\")\n",
    "df_COLInew"
   ]
  },
  {
   "cell_type": "code",
   "execution_count": null,
   "metadata": {},
   "outputs": [],
   "source": [
    "df_COLInew.count()"
   ]
  },
  {
   "cell_type": "code",
   "execution_count": null,
   "metadata": {},
   "outputs": [],
   "source": []
  },
  {
   "cell_type": "code",
   "execution_count": null,
   "metadata": {},
   "outputs": [],
   "source": [
    "df_COLI.to_csv(\"Output_Data/COLI_new.csv\")"
   ]
  },
  {
   "cell_type": "code",
   "execution_count": null,
   "metadata": {},
   "outputs": [],
   "source": []
  },
  {
   "cell_type": "code",
   "execution_count": null,
   "metadata": {},
   "outputs": [],
   "source": []
  }
 ],
 "metadata": {
  "kernelspec": {
   "display_name": "matplotlib-hw",
   "language": "python",
   "name": "matplotlib-hw"
  },
  "language_info": {
   "codemirror_mode": {
    "name": "ipython",
    "version": 3
   },
   "file_extension": ".py",
   "mimetype": "text/x-python",
   "name": "python",
   "nbconvert_exporter": "python",
   "pygments_lexer": "ipython3",
   "version": "3.7.4"
  }
 },
 "nbformat": 4,
 "nbformat_minor": 4
}
