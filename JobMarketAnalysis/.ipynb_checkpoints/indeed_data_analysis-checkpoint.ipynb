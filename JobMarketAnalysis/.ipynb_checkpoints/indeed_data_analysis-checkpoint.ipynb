{
 "cells": [
  {
   "cell_type": "markdown",
   "metadata": {},
   "source": [
    "# Which cities are the best for data science jobs in the USA?"
   ]
  },
  {
   "cell_type": "markdown",
   "metadata": {},
   "source": [
    "[Data Science City](data_science_city.jpg)"
   ]
  },
  {
   "cell_type": "markdown",
   "metadata": {},
   "source": [
    "# Methods\n",
    "* Define Parameters to be used\n",
    "* Data Collection\n",
    "    * Indeed API for number of jobs per city\n",
    "    * Numbeo API for cost of living per city\n",
    "    * National Center for Education Statistics\n",
    "* Data Merging\n",
    "    * Cost of Living and Number of Students\n",
    "    * Cost of Living, Number of Students and Number of Jobs by City\n",
    "    * Salary Data from Glassdoor\n",
    "* Calculated the Normalized Index for Cost of Living\n",
    "* Visualizations\n",
    "    * Average Salary Scatter\n",
    "    * City vs Normalized Cost of Living Index\n",
    "    * Education requirements for Data Science Jobs\n",
    "    * Experience Requirements for Data Science Jobs\n",
    "    * Technology Skills \n",
    "    \n"
   ]
  },
  {
   "cell_type": "markdown",
   "metadata": {},
   "source": [
    "# Parameters used to determine which cities are best:\n",
    "   * Cost of living\n",
    "   * Average Salary\n",
    "   * Number of jobs in each city for Data Science"
   ]
  },
  {
   "cell_type": "code",
   "execution_count": 60,
   "metadata": {},
   "outputs": [],
   "source": [
    "%load_ext blackcellmagic"
   ]
  },
  {
   "cell_type": "code",
   "execution_count": 61,
   "metadata": {},
   "outputs": [],
   "source": [
    "# Import the dependencies\n",
    "import matplotlib.pyplot as plt\n",
    "import pandas as pd\n",
    "import numpy as np\n",
    "import requests\n",
    "import pprint\n",
    "import json\n",
    "import re\n",
    "import csv\n",
    "import os"
   ]
  },
  {
   "cell_type": "markdown",
   "metadata": {},
   "source": [
    "## Data pulled from Indeed API\n",
    "    * Number of jobs per city is calculated"
   ]
  },
  {
   "cell_type": "code",
   "execution_count": 62,
   "metadata": {},
   "outputs": [],
   "source": [
    "# Exporting the data and creating a DataFrame\n",
    "df = pd.read_csv(\"Output_Files/indeed_data.csv\")\n",
    "indeed_df = df\n",
    "# Output File (CSV)\n",
    "output_data_file = \"../Output_Files/cleaned_indeed_jobs.csv\"\n",
    "indeed_df.drop(\"onmousedown\", axis=1, inplace=True)\n",
    "indeed_df.drop(\"indeedApply\", axis=1, inplace=True)\n",
    "indeed_df.drop(\"expired\", axis=1, inplace=True)\n",
    "indeed_df.drop(\"formattedLocationFull\", axis=1, inplace=True)\n",
    "unique_df = indeed_df.groupby([\"formattedLocation\"])[\"jobtitle\"].count()"
   ]
  },
  {
   "cell_type": "code",
   "execution_count": 35,
   "metadata": {},
   "outputs": [
    {
     "data": {
      "text/html": [
       "<div>\n",
       "<style scoped>\n",
       "    .dataframe tbody tr th:only-of-type {\n",
       "        vertical-align: middle;\n",
       "    }\n",
       "\n",
       "    .dataframe tbody tr th {\n",
       "        vertical-align: top;\n",
       "    }\n",
       "\n",
       "    .dataframe thead th {\n",
       "        text-align: right;\n",
       "    }\n",
       "</style>\n",
       "<table border=\"1\" class=\"dataframe\">\n",
       "  <thead>\n",
       "    <tr style=\"text-align: right;\">\n",
       "      <th></th>\n",
       "      <th>index</th>\n",
       "      <th>jobtitle</th>\n",
       "    </tr>\n",
       "  </thead>\n",
       "  <tbody>\n",
       "    <tr>\n",
       "      <td>0</td>\n",
       "      <td>Ada</td>\n",
       "      <td>1</td>\n",
       "    </tr>\n",
       "    <tr>\n",
       "      <td>1</td>\n",
       "      <td>Adelphi</td>\n",
       "      <td>1</td>\n",
       "    </tr>\n",
       "    <tr>\n",
       "      <td>2</td>\n",
       "      <td>Albuquerque</td>\n",
       "      <td>2</td>\n",
       "    </tr>\n",
       "    <tr>\n",
       "      <td>3</td>\n",
       "      <td>Alexandria</td>\n",
       "      <td>3</td>\n",
       "    </tr>\n",
       "    <tr>\n",
       "      <td>4</td>\n",
       "      <td>Alpharetta</td>\n",
       "      <td>2</td>\n",
       "    </tr>\n",
       "  </tbody>\n",
       "</table>\n",
       "</div>"
      ],
      "text/plain": [
       "         index  jobtitle\n",
       "0          Ada         1\n",
       "1      Adelphi         1\n",
       "2  Albuquerque         2\n",
       "3   Alexandria         3\n",
       "4   Alpharetta         2"
      ]
     },
     "execution_count": 35,
     "metadata": {},
     "output_type": "execute_result"
    }
   ],
   "source": [
    "name_list = [unique_df.index[i].split(', ') for i in range(0, len(unique_df.index))]\n",
    "name_list = [e[0] for e in name_list]\n",
    "unique_df.index = name_list\n",
    "unique_df = unique_df.to_frame()\n",
    "unique_df = unique_df.reset_index()\n",
    "unique_df.head()"
   ]
  },
  {
   "cell_type": "markdown",
   "metadata": {},
   "source": [
    "## Cost of Living for different cities is pulled from Numbeo API"
   ]
  },
  {
   "cell_type": "code",
   "execution_count": 63,
   "metadata": {},
   "outputs": [],
   "source": [
    "# Create a dataframe with Cost of Living Index for all the cities\n",
    "df_COLI_complete = pd.read_csv(\"Output_Files/COLI.csv\")\n",
    "df_COLI_complete[\"City\"] = df_COLI_complete[\"City\"].str.slice(0, -4)\n",
    "df_COLI_complete = df_COLI_complete.drop(\n",
    "    [\"Rank\", \"City ID\", \"Country\", \"Purchasing Power\"], axis=1\n",
    ")\n",
    "# df_COLI_complete.head()"
   ]
  },
  {
   "cell_type": "markdown",
   "metadata": {},
   "source": [
    "## Number of Students enrolled in 4 years degree Public university CSV pulled from \"National Center for Education Statistics\""
   ]
  },
  {
   "cell_type": "code",
   "execution_count": 64,
   "metadata": {},
   "outputs": [],
   "source": [
    "df_student = pd.read_csv(\"Output_Files/School population by city.csv\")\n",
    "df_student = df_student.rename(columns={\"Row Labels\": \"City\"})\n",
    "\n",
    "df_student[\"City\"] = [\n",
    "    df_student[\"City\"][i].lstrip() for i in range(0, len(df_student[\"City\"]))\n",
    "]\n",
    "df_student.head()"
   ]
  },
  {
   "cell_type": "markdown",
   "metadata": {},
   "source": [
    "## Merged the data for Cost of living, Number of Students"
   ]
  },
  {
   "cell_type": "code",
   "execution_count": 65,
   "metadata": {},
   "outputs": [],
   "source": [
    "# Create a dataframe with Cost of Living Index and Student population for all the cities\n",
    "df_col_complete_student = pd.merge(df_COLI_complete, df_student, how=\"left\", on=\"City\")\n",
    "df_col_complete_student.head()"
   ]
  },
  {
   "cell_type": "markdown",
   "metadata": {},
   "source": [
    "## Merged the data for Cost of living, Number of Students and Number of Jobs on \"City\""
   ]
  },
  {
   "cell_type": "code",
   "execution_count": 66,
   "metadata": {},
   "outputs": [],
   "source": [
    "df_coli_complete_student_jobs = pd.merge(\n",
    "    df_col_complete_student, unique_df, how=\"left\", left_on=\"City\", right_on=\"index\"\n",
    ")\n",
    "df_coli_complete_student_jobs.drop(\"index\", axis=1, inplace=True)\n",
    "df_coli_complete_student_jobs.rename(columns={\"jobtitle\": \"No.of Jobs\"}, inplace=True)\n",
    "df_coli_complete_student_jobs.head()"
   ]
  },
  {
   "cell_type": "code",
   "execution_count": 67,
   "metadata": {},
   "outputs": [],
   "source": [
    "# Upload average salaries from glassdoor\n",
    "df_salary = pd.read_csv(\"Output_Files/COLI w average salary.csv\")\n",
    "\n",
    "df_salary[\"City\"] = [\n",
    "    df_salary[\"City\"][i].split(\", \")[0] for i in range(0, len(df_salary[\"City\"]))\n",
    "]\n",
    "# df_salary.head()"
   ]
  },
  {
   "cell_type": "markdown",
   "metadata": {},
   "source": [
    "## Merged the salary data from glassdoor to the dataframe"
   ]
  },
  {
   "cell_type": "code",
   "execution_count": 68,
   "metadata": {},
   "outputs": [],
   "source": [
    "df_coli_complete_student_jobs_salary = pd.merge(\n",
    "    df_coli_complete_student_jobs,\n",
    "    df_salary,\n",
    "    how=\"left\",\n",
    "    left_on=\"City\",\n",
    "    right_on=\"City\",\n",
    ")\n",
    "df_coli_complete_student_jobs_salary = df_coli_complete_student_jobs_salary.drop(\n",
    "    [\"Rank\", \"City ID\", \"Country\", \"Purchasing Power\", \"Cost Of Living Index_y\"], axis=1\n",
    ")\n",
    "df_coli_complete_student_jobs_salary = df_coli_complete_student_jobs_salary.rename(\n",
    "    columns={\"Cost Of Living Index_x\": \"Cost Of Living Index\"}\n",
    ")\n",
    "df_coli_complete_student_jobs_salary.head()"
   ]
  },
  {
   "cell_type": "markdown",
   "metadata": {},
   "source": [
    "## Merged the Average Salary information"
   ]
  },
  {
   "cell_type": "code",
   "execution_count": 69,
   "metadata": {},
   "outputs": [],
   "source": [
    "cities = df_COLI_complete[\"City\"]"
   ]
  },
  {
   "cell_type": "code",
   "execution_count": 70,
   "metadata": {},
   "outputs": [],
   "source": [
    "avg_salary = [\n",
    "    134331.00,\n",
    "    161743.00,\n",
    "    103574.00,\n",
    "    100336.00,\n",
    "    100336.00,\n",
    "    125697.00,\n",
    "    92615.00,\n",
    "    123915.00,\n",
    "    123915.00,\n",
    "    155451.00,\n",
    "    115912.00,\n",
    "    93041.00,\n",
    "    122194.00,\n",
    "    146202.00,\n",
    "    114914.00,\n",
    "    100372.00,\n",
    "    108227.00,\n",
    "    108994.00,\n",
    "    120914.00,\n",
    "    104564.00,\n",
    "    115589.00,\n",
    "    114337.00,\n",
    "    129231.00,\n",
    "    106862.00,\n",
    "    100161.00,\n",
    "    112906.00,\n",
    "    112906.00,\n",
    "    134233.00,\n",
    "    116869.00,\n",
    "    105176.00,\n",
    "    114054.00,\n",
    "    95440.00,\n",
    "    105575.00,\n",
    "    161022.00,\n",
    "    102829.00,\n",
    "    114153.00,\n",
    "    110652.00,\n",
    "    94649.00,\n",
    "    115614.00,\n",
    "    84254.00,\n",
    "    114744.00,\n",
    "    93872.00,\n",
    "    145960.00,\n",
    "    101190.00,\n",
    "    126357.00,\n",
    "    96366.00,\n",
    "    100331.00,\n",
    "    127686.00,\n",
    "    115351.00,\n",
    "    119778.00,\n",
    "    99338.00,\n",
    "    110173.00,\n",
    "    95783.00,\n",
    "    114947.00,\n",
    "    115129.00,\n",
    "    94929.00,\n",
    "    95729.00,\n",
    "    90917.00,\n",
    "]"
   ]
  },
  {
   "cell_type": "code",
   "execution_count": 71,
   "metadata": {},
   "outputs": [],
   "source": [
    "df_indeed_salary = pd.DataFrame({\"Avg Salary Indeed\": avg_salary, \"City\": cities})"
   ]
  },
  {
   "cell_type": "code",
   "execution_count": 73,
   "metadata": {},
   "outputs": [],
   "source": [
    "df_col_complete_student_jobs_salary_final = pd.merge(\n",
    "    df_coli_complete_student_jobs_salary,\n",
    "    df_indeed_salary,\n",
    "    how=\"left\",\n",
    "    left_on=\"City\",\n",
    "    right_on=\"City\",\n",
    ")\n",
    "df_col_complete_student_jobs_salary_final = df_col_complete_student_jobs_salary_final[\n",
    "    [\n",
    "        \"City\",\n",
    "        \"No.of Jobs\",\n",
    "        \"Avg Salary Indeed\",\n",
    "        \"Cost Of Living Index\",\n",
    "        \"Sum of Student population\",\n",
    "        \"Data Science Average Salary\",\n",
    "        \"Data Scientist Low\",\n",
    "        \"Data Scientist High\",\n",
    "        \"Average Pay vs National Avg\",\n",
    "        \"Data Analyst Average Salary\",\n",
    "        \"Data Analyst Low\",\n",
    "        \"Data Analysts High\",\n",
    "        \"Average Pay vs National Avg.1\",\n",
    "        \"Data Engineer Average Salary\",\n",
    "        \"Data Engineer Low\",\n",
    "        \"Data Engineer High\",\n",
    "        \"Average Pay vs National Avg.2\",\n",
    "        \"Data Architect Average Salary\",\n",
    "        \"Data Architect Low\",\n",
    "        \"Data Architect High\",\n",
    "        \"Average Pay vs National Avg.3\",\n",
    "    ]\n",
    "]\n",
    "df_col_complete_student_jobs_salary_final.head()"
   ]
  },
  {
   "cell_type": "markdown",
   "metadata": {},
   "source": [
    "## Formula Used to Calculate Normalized Index = (1/(%Cost Of Living Index)) x Avg Salary / NY Avg Salary"
   ]
  },
  {
   "cell_type": "code",
   "execution_count": 74,
   "metadata": {},
   "outputs": [],
   "source": [
    "# Extracting the salary of New york into a variable\n",
    "New_York_Salary = df_col_complete_student_jobs_salary_final.loc[\n",
    "    df_col_complete_student_jobs_salary_final[\"City\"] == \"New York\"\n",
    "][\"Avg Salary Indeed\"]\n",
    "# Calculate the index based on average salary and cost of living of every city and normalize it for New york\n",
    "list = np.array(\n",
    "    [\n",
    "        (\n",
    "            100\n",
    "            * df_col_complete_student_jobs_salary_final[\"Avg Salary Indeed\"][i]\n",
    "            / df_col_complete_student_jobs_salary_final[\"Cost Of Living Index\"][i]\n",
    "        )\n",
    "        / New_York_Salary\n",
    "        for i in range(0, len(df_col_complete_student_jobs_salary_final))\n",
    "    ]\n",
    ").tolist()\n",
    "# Flattening the list of lists and assigning it to a new coloumn in dataframe\n",
    "df_col_complete_student_jobs_salary_final[\"SalaryCOLIndex\"] = [\n",
    "    y for x in list for y in x\n",
    "]\n",
    "# Rearranging the order of the columns as desired\n",
    "df_col_complete_student_jobs_salary_final = df_col_complete_student_jobs_salary_final[\n",
    "    [\n",
    "        \"City\",\n",
    "        \"No.of Jobs\",\n",
    "        \"Avg Salary Indeed\",\n",
    "        \"Cost Of Living Index\",\n",
    "        \"SalaryCOLIndex\",\n",
    "        \"Sum of Student population\",\n",
    "        \"Data Science Average Salary\",\n",
    "        \"Data Scientist Low\",\n",
    "        \"Data Scientist High\",\n",
    "        \"Average Pay vs National Avg\",\n",
    "        \"Data Analyst Average Salary\",\n",
    "        \"Data Analyst Low\",\n",
    "        \"Data Analysts High\",\n",
    "        \"Average Pay vs National Avg.1\",\n",
    "        \"Data Engineer Average Salary\",\n",
    "        \"Data Engineer Low\",\n",
    "        \"Data Engineer High\",\n",
    "        \"Average Pay vs National Avg.2\",\n",
    "        \"Data Architect Average Salary\",\n",
    "        \"Data Architect Low\",\n",
    "        \"Data Architect High\",\n",
    "        \"Average Pay vs National Avg.3\",\n",
    "    ]\n",
    "]\n",
    "# df_col_complete_student_jobs_salary_final.head()"
   ]
  },
  {
   "cell_type": "markdown",
   "metadata": {},
   "source": [
    "## Complete dataFrame"
   ]
  },
  {
   "cell_type": "code",
   "execution_count": 75,
   "metadata": {},
   "outputs": [],
   "source": [
    "df_col_complete_student_jobs_salary_final.head()"
   ]
  },
  {
   "cell_type": "markdown",
   "metadata": {},
   "source": [
    "# Average Salary Scatter"
   ]
  },
  {
   "cell_type": "markdown",
   "metadata": {},
   "source": [
    "## Graph to plot Average Salary Vs Cost of Living Index with respect to New York(withCost of Living Index as 100)"
   ]
  },
  {
   "cell_type": "code",
   "execution_count": 76,
   "metadata": {},
   "outputs": [],
   "source": [
    "# Sortinf by COLI\n",
    "df_SalaryCOLIndex_Cities = df_col_complete_student_jobs_salary_final.sort_values(\n",
    "    by=[\"SalaryCOLIndex\"], ascending=False\n",
    ")\n",
    "# Average city of cities compared with new york average salary\n",
    "newyork_col = df_SalaryCOLIndex_Cities.loc[\n",
    "    df_SalaryCOLIndex_Cities[\"City\"] == \"New York\", [\"Cost Of Living Index\"]\n",
    "]\n",
    "newyork_salary = df_SalaryCOLIndex_Cities.loc[\n",
    "    df_SalaryCOLIndex_Cities[\"City\"] == \"New York\", [\"Avg Salary Indeed\"]\n",
    "]\n",
    "x = (\n",
    "    df_SalaryCOLIndex_Cities[\"Cost Of Living Index\"]\n",
    "    - newyork_col[\"Cost Of Living Index\"][0]\n",
    ")\n",
    "y = (\n",
    "    df_SalaryCOLIndex_Cities[\"Avg Salary Indeed\"]\n",
    "    - newyork_salary[\"Avg Salary Indeed\"][0]\n",
    ")\n",
    "fig, ax = plt.subplots(figsize=(16, 8))\n",
    "plt.title(\"Normalized Average Salary vs Normalized Cost of Living Index\")\n",
    "ax.scatter(x, y)\n",
    "ax.scatter(0, 0, color=\"red\")\n",
    "z = np.polyfit(x, y, 1)\n",
    "p = np.poly1d(z)\n",
    "ax.plot(x, p(x), \"r--\")\n",
    "ax.set_xlabel(\n",
    "    \"Normalized Cost of Living(Cost of Living Index - New York Cost of Living Index)\"\n",
    ")\n",
    "ax.set_ylabel(\"Normalized Salary([Salary] - [New York Salary])\")\n",
    "ax.grid(axis=\"both\")\n",
    "plt.savefig(\"Plots/SalaryVsCOLIqrtNewYork.png\")"
   ]
  },
  {
   "cell_type": "markdown",
   "metadata": {},
   "source": [
    "* make both axis in reference to New York"
   ]
  },
  {
   "cell_type": "markdown",
   "metadata": {},
   "source": [
    "* Average cost of living 73.48\n",
    "* Average Salary $112465.75"
   ]
  },
  {
   "cell_type": "markdown",
   "metadata": {},
   "source": [
    "# Cities Vs. Normalized Cost Of Living Index"
   ]
  },
  {
   "cell_type": "code",
   "execution_count": 77,
   "metadata": {},
   "outputs": [],
   "source": [
    "# Graph to plot number of cureent jobs Vs Citites\n",
    "df_SalaryCOLIndex_Cities = df_col_complete_student_jobs_salary_final.sort_values(\n",
    "    by=[\"SalaryCOLIndex\"], ascending=False\n",
    ")\n",
    "# df_SalaryCOLIndex_Cities.columns\n",
    "df_SalaryCOLIndex_Cities = df_SalaryCOLIndex_Cities[\n",
    "    [\n",
    "        \"City\",\n",
    "        \"No.of Jobs\",\n",
    "        \"Avg Salary Indeed\",\n",
    "        \"Cost Of Living Index\",\n",
    "        \"SalaryCOLIndex\",\n",
    "        \"Sum of Student population\",\n",
    "    ]\n",
    "]\n",
    "df_SalaryCOLIndex_Cities.head()\n",
    "# df_final[\"SalaryCOLIndex\"].values\n",
    "plt.figure(figsize=(20, 10))\n",
    "plt.xlabel(\"City\")\n",
    "plt.ylabel(\"Nomrlaized Cost of Living Index\")\n",
    "plt.title(\"City Vs Normalized Cost Of Living Index\")\n",
    "plt.xticks(rotation=\"vertical\")\n",
    "# plt.yticks(ticks=df_final[\"SalaryCOLIndex\"], labels=df_final[\"SalaryCOLIndex\"].values.tolist())\n",
    "plt.bar(\n",
    "    df_SalaryCOLIndex_Cities[\"City\"], df_SalaryCOLIndex_Cities[\"SalaryCOLIndex\"] - 1\n",
    ")\n",
    "# plt.show()\n",
    "# Save t he plots in another folder\n",
    "plt.savefig(\"Plots/CitiesVsCOLI.png\")"
   ]
  },
  {
   "cell_type": "markdown",
   "metadata": {},
   "source": [
    "*Filter out cities by number of data science jobs"
   ]
  },
  {
   "cell_type": "markdown",
   "metadata": {},
   "source": [
    "# Plotting the graph for top 10 cities "
   ]
  },
  {
   "cell_type": "markdown",
   "metadata": {},
   "source": [
    "* Calculate the cities with top number of jobs \n",
    "Sorted the top cities by Normalized COLI index"
   ]
  },
  {
   "cell_type": "code",
   "execution_count": 78,
   "metadata": {},
   "outputs": [],
   "source": [
    "# Sorted the dataframe with Average Salary\n",
    "df_col_complete_student_jobs_salary_final = df_col_complete_student_jobs_salary_final.sort_values(\n",
    "    by=[\"Avg Salary Indeed\"], ascending=False\n",
    ")\n",
    "# df_col_complete_student_jobs_salary_final.head()\n",
    "# Top 10 cities by number of jobs\n",
    "df_top10 = df_col_complete_student_jobs_salary_final.sort_values(\n",
    "    by=[\"No.of Jobs\"], ascending=False\n",
    ")\n",
    "df_top10 = df_top10.head(10)\n",
    "# df_top10.head()"
   ]
  },
  {
   "cell_type": "code",
   "execution_count": 79,
   "metadata": {},
   "outputs": [],
   "source": [
    "# Graph to plot number of cureent jobs Vs top 10 Citites with maximum number of jobs\n",
    "df_top10 = df_top10.sort_values(by=[\"SalaryCOLIndex\"], ascending=False)\n",
    "# df_SalaryCOLIndex_Cities = df_col_complete_student_jobs_salary_final.sort_values(by=['SalaryCOLIndex'], ascending=False)\n",
    "\n",
    "# df_final[\"SalaryCOLIndex\"].values\n",
    "plt.figure(figsize=(20, 10))\n",
    "plt.xlabel(\"City\")\n",
    "plt.ylabel(\"Normalized Cost Of Living Index\")\n",
    "plt.title(\n",
    "    \"City Vs Cost Of Normalized Cost of Living Index for top cities with maximum number of jobs\"\n",
    ")\n",
    "plt.xticks(rotation=\"vertical\")\n",
    "plt.bar(df_top10[\"City\"], df_top10[\"SalaryCOLIndex\"] - 1)\n",
    "# plt.show()\n",
    "# Save t he plots in another folder\n",
    "plt.savefig(\"Plots/CitiesVsCOLIfortop10citites.png\")\n",
    "# df_top10"
   ]
  },
  {
   "cell_type": "markdown",
   "metadata": {},
   "source": [
    "# Education requuirements for Data Science jobs"
   ]
  },
  {
   "cell_type": "code",
   "execution_count": 80,
   "metadata": {},
   "outputs": [],
   "source": [
    "# Education requirement for the Jobs\n",
    "def has_bachelor(s):\n",
    "    return (\n",
    "        bool(re.search(r\"bachelors?'?s?\", s, re.IGNORECASE))\n",
    "        or bool(re.search(r\"\\sB\\.?A\\.?\\s\", s, re.IGNORECASE))\n",
    "        or bool(re.search(r\"\\sB\\.?S\\.?\\s\", s, re.IGNORECASE))\n",
    "    )\n",
    "\n",
    "\n",
    "def has_masters(s):\n",
    "    return (\n",
    "        bool(re.search(r\"masters?'?s?\\s\", s, re.IGNORECASE))\n",
    "        or bool(re.search(r\"\\sM\\.?A\\.?\\s\", s, re.IGNORECASE))\n",
    "        or bool(re.search(r\"\\sM\\.?S\\.?\\s\", s, re.IGNORECASE))\n",
    "        or bool(re.search(r\"M\\.?B\\.?A\\.?\\s\", s, re.IGNORECASE))\n",
    "    )\n",
    "\n",
    "\n",
    "def has_phd(s):\n",
    "    return bool(re.search(r\"Ph\\.?d\", s, re.IGNORECASE))\n",
    "\n",
    "\n",
    "education_df = pd.DataFrame(\n",
    "    {\n",
    "        \"Bachelor's\": indeed_df[\"snippet\"].apply(has_bachelor).value_counts(())[1],\n",
    "        \"Master's\": indeed_df[\"snippet\"].apply(has_masters).value_counts(())[1],\n",
    "        \"Phd\": indeed_df[\"snippet\"].apply(has_phd).value_counts(())[1],\n",
    "    },\n",
    "    index=[\"Education\"],\n",
    ")\n",
    "education_df.plot(kind=\"barh\", figsize=(16, 4), align=\"edge\", width=0.4)\n",
    "plt.xlabel(\"Count of References in Snippet\")\n",
    "plt.title(\"Education References in the Snippet\")\n",
    "education_df\n",
    "# Save the plots in another folder\n",
    "plt.savefig(\"Plots/EducationVSCount.png\")"
   ]
  },
  {
   "cell_type": "markdown",
   "metadata": {},
   "source": [
    "* We used regex to find education requirements for Data Science jobs."
   ]
  },
  {
   "cell_type": "markdown",
   "metadata": {},
   "source": [
    "# Number of years of experience requirement for the Data Science Jobs"
   ]
  },
  {
   "cell_type": "code",
   "execution_count": 81,
   "metadata": {},
   "outputs": [],
   "source": [
    "def extract_years_only(s):\n",
    "    results = re.findall(r\"([0-9]*)\\+?.[yY]ear.*\", s)\n",
    "    if results and results[0]:\n",
    "        return int(results[0])\n",
    "    else:\n",
    "        return np.nan"
   ]
  },
  {
   "cell_type": "code",
   "execution_count": 82,
   "metadata": {},
   "outputs": [],
   "source": [
    "years = df[\"snippet\"].apply(lambda s: extract_years_only(s))\n",
    "df_years = pd.DataFrame(years.value_counts().sort_index())"
   ]
  },
  {
   "cell_type": "code",
   "execution_count": 83,
   "metadata": {},
   "outputs": [],
   "source": [
    "df_years = df_years.rename(columns={\"snippet\": \"No. of jobs\"})\n",
    "df_years.index.name = \"Required No.of Years of Experience\"\n",
    "\n",
    "df_years.plot(kind=\"bar\", figsize=(16, 8))\n",
    "plt.title(\"Years Experience vs Number of Jobs\")\n",
    "plt.ylabel(\"Number of Jobs\")\n",
    "# Save t he plots in another folder\n",
    "plt.savefig(\"Plots/YearsofExpVsJobCount.png\")"
   ]
  },
  {
   "cell_type": "markdown",
   "metadata": {},
   "source": [
    "* We used regex to find required number of years of Experience."
   ]
  },
  {
   "cell_type": "code",
   "execution_count": 84,
   "metadata": {},
   "outputs": [],
   "source": [
    "df_years[\"No. of jobs\"].sum()"
   ]
  },
  {
   "cell_type": "markdown",
   "metadata": {},
   "source": [
    "# Which Technology skills are in most demand"
   ]
  },
  {
   "cell_type": "code",
   "execution_count": 85,
   "metadata": {},
   "outputs": [],
   "source": [
    "def extract_tech_count(s, tech):\n",
    "    result_count = re.findall(tech, s)\n",
    "\n",
    "    if result_count:\n",
    "        return len(result_count)\n",
    "    else:\n",
    "        return np.nan"
   ]
  },
  {
   "cell_type": "code",
   "execution_count": 86,
   "metadata": {},
   "outputs": [],
   "source": [
    "df_tech = pd.DataFrame(columns={\"Tech\", \"No.ofJobs\"})\n",
    "tech_list = [\n",
    "    \"Python\",\n",
    "    \" R \",\n",
    "    \"SQL\",\n",
    "    \"Tableau\",\n",
    "    \"Java\",\n",
    "    \"AWS\",\n",
    "    \"Hadoop\",\n",
    "    \"Spark\",\n",
    "    \"Machine Learning\",\n",
    "    \"AI\",\n",
    "    \"Excel\",\n",
    "]\n",
    "\n",
    "sample = df[\"snippet\"]\n",
    "\n",
    "for tech in tech_list:\n",
    "    count = 0\n",
    "    job_tech = sample.apply(lambda s: extract_tech_count(s, tech))\n",
    "\n",
    "    for i in range(0, len(job_tech)):\n",
    "\n",
    "        if pd.notna(job_tech[i]):\n",
    "            count += 1\n",
    "        else:\n",
    "            continue\n",
    "    tech_list_count = pd.DataFrame({\"Tech\": [tech], \"No.ofJobs\": [count]})\n",
    "    df_tech = df_tech.append(tech_list_count)\n",
    "\n",
    "df_tech = df_tech.sort_values(by=\"No.ofJobs\", ascending=False)\n",
    "df_tech.set_index(\"Tech\")\n",
    "plt.figure(figsize=(16, 8))\n",
    "plt.bar(df_tech[\"Tech\"], df_tech[\"No.ofJobs\"])\n",
    "plt.xticks(rotation=45)\n",
    "plt.title(\"Skills in Demand for Data Science Positions\")\n",
    "plt.ylabel(\"Number of Jobs\")\n",
    "plt.xlabel(\"Skills in Demand\")\n",
    "# Save t he plots in another folder\n",
    "plt.savefig(\"Plots/TechnologyVsCount.png\")"
   ]
  },
  {
   "cell_type": "markdown",
   "metadata": {},
   "source": [
    "* We used regex to find top skills in the demand"
   ]
  },
  {
   "cell_type": "markdown",
   "metadata": {},
   "source": [
    "# Upload the SQL database"
   ]
  },
  {
   "cell_type": "code",
   "execution_count": 87,
   "metadata": {},
   "outputs": [],
   "source": [
    "import numpy as np\n",
    "import pandas as pd\n",
    "from sqlalchemy import create_engine\n",
    "from sqlalchemy.exc import ProgrammingError\n",
    "import warnings\n",
    "\n",
    "USER = \"root\"\n",
    "PASSWORD = \"####\"  # Masking the password\n",
    "HOST = \"127.0.0.1\"\n",
    "PORT = \"3306\"\n",
    "DATABASE = \"jobanalysis_db\"\n",
    "TABLENAME = \"jobanalysis_table\"\n",
    "\n",
    "engine = create_engine(f\"mysql+pymysql://{USER}:{PASSWORD}@{HOST}:{PORT}\")\n",
    "\n",
    "try:\n",
    "    engine.execute(f\"CREATE DATABASE {DATABASE}\")\n",
    "except ProgrammingError:\n",
    "    warnings.warn(\n",
    "        f\"Could not create database {DATABASE}. Database {DATABASE} may already exist.\"\n",
    "    )\n",
    "    pass\n",
    "\n",
    "engine.execute(f\"USE {DATABASE}\")\n",
    "engine.execute(f\"DROP TABLE IF EXISTS {TABLENAME}\")\n",
    "df_col_complete_student_jobs_salary_final.to_sql(name=TABLENAME, con=engine)"
   ]
  }
 ],
 "metadata": {
  "kernelspec": {
   "display_name": "matplotlib-hw",
   "language": "python",
   "name": "matplotlib-hw"
  },
  "language_info": {
   "codemirror_mode": {
    "name": "ipython",
    "version": 3
   },
   "file_extension": ".py",
   "mimetype": "text/x-python",
   "name": "python",
   "nbconvert_exporter": "python",
   "pygments_lexer": "ipython3",
   "version": "3.7.4"
  }
 },
 "nbformat": 4,
 "nbformat_minor": 4
}
