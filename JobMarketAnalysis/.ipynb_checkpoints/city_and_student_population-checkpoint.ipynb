{
 "cells": [
  {
   "cell_type": "code",
   "execution_count": 1,
   "metadata": {},
   "outputs": [],
   "source": [
    "import matplotlib.pyplot as plt\n",
    "import pandas as pd\n",
    "import numpy as np\n",
    "import requests\n",
    "import pprint\n",
    "import json\n",
    "import re\n",
    "import os\n",
    "\n",
    "df = pd.read_csv(\"indeed_data.csv\")\n",
    "indeed_df = df\n",
    "# Output File (CSV)\n",
    "output_data_file = \"cleaned_indeed_jobs.csv\""
   ]
  },
  {
   "cell_type": "code",
   "execution_count": 2,
   "metadata": {},
   "outputs": [
    {
     "data": {
      "text/html": [
       "<div>\n",
       "<style scoped>\n",
       "    .dataframe tbody tr th:only-of-type {\n",
       "        vertical-align: middle;\n",
       "    }\n",
       "\n",
       "    .dataframe tbody tr th {\n",
       "        vertical-align: top;\n",
       "    }\n",
       "\n",
       "    .dataframe thead th {\n",
       "        text-align: right;\n",
       "    }\n",
       "</style>\n",
       "<table border=\"1\" class=\"dataframe\">\n",
       "  <thead>\n",
       "    <tr style=\"text-align: right;\">\n",
       "      <th></th>\n",
       "      <th>Name</th>\n",
       "      <th>Address</th>\n",
       "      <th>Website</th>\n",
       "      <th>Type</th>\n",
       "      <th>Awards offered</th>\n",
       "      <th>Campus setting</th>\n",
       "      <th>Campus housing</th>\n",
       "      <th>Student population</th>\n",
       "      <th>Undergraduate students</th>\n",
       "      <th>Graduation Rate</th>\n",
       "      <th>Transfer-Out Rate</th>\n",
       "      <th>Cohort Year *</th>\n",
       "      <th>Net Price **</th>\n",
       "      <th>Largest Program</th>\n",
       "      <th>IPEDS ID</th>\n",
       "      <th>OPE ID</th>\n",
       "    </tr>\n",
       "  </thead>\n",
       "  <tbody>\n",
       "    <tr>\n",
       "      <td>0</td>\n",
       "      <td>Alabama A &amp; M University</td>\n",
       "      <td>4900 Meridian Street, Normal, Alabama 35762</td>\n",
       "      <td>www.aamu.edu/</td>\n",
       "      <td>4-year, Public</td>\n",
       "      <td>Less than one year certificate|Bachelor's degr...</td>\n",
       "      <td>City: Midsize</td>\n",
       "      <td>Yes</td>\n",
       "      <td>6106.0</td>\n",
       "      <td>5143.0</td>\n",
       "      <td>27%</td>\n",
       "      <td>42%</td>\n",
       "      <td>Fall 2012</td>\n",
       "      <td>$13,956</td>\n",
       "      <td>-</td>\n",
       "      <td>100654.0</td>\n",
       "      <td>100200.0</td>\n",
       "    </tr>\n",
       "    <tr>\n",
       "      <td>1</td>\n",
       "      <td>Alabama State University</td>\n",
       "      <td>915 S Jackson Street, Montgomery, Alabama 3610...</td>\n",
       "      <td>www.alasu.edu</td>\n",
       "      <td>4-year, Public</td>\n",
       "      <td>Bachelor's degree|Postbaccalaureate certificat...</td>\n",
       "      <td>City: Midsize</td>\n",
       "      <td>Yes</td>\n",
       "      <td>4413.0</td>\n",
       "      <td>3903.0</td>\n",
       "      <td>30%</td>\n",
       "      <td>37%</td>\n",
       "      <td>Fall 2012</td>\n",
       "      <td>$13,029</td>\n",
       "      <td>-</td>\n",
       "      <td>100724.0</td>\n",
       "      <td>100500.0</td>\n",
       "    </tr>\n",
       "    <tr>\n",
       "      <td>2</td>\n",
       "      <td>Albany State University</td>\n",
       "      <td>504 College Drive, Albany, Georgia 31705</td>\n",
       "      <td>https://www.asurams.edu/</td>\n",
       "      <td>4-year, primarily associate's, Public</td>\n",
       "      <td>Less than one year certificate|One but less th...</td>\n",
       "      <td>City: Small</td>\n",
       "      <td>Yes</td>\n",
       "      <td>6371.0</td>\n",
       "      <td>6001.0</td>\n",
       "      <td>19%</td>\n",
       "      <td>48%</td>\n",
       "      <td>Fall 2012</td>\n",
       "      <td>$12,569</td>\n",
       "      <td>-</td>\n",
       "      <td>138716.0</td>\n",
       "      <td>154400.0</td>\n",
       "    </tr>\n",
       "    <tr>\n",
       "      <td>3</td>\n",
       "      <td>Alcorn State University</td>\n",
       "      <td>1000 ASU Dr Ste 359, Alcorn State, Mississippi...</td>\n",
       "      <td>www.alcorn.edu</td>\n",
       "      <td>4-year, Public</td>\n",
       "      <td>Associate's degree|Bachelor's degree|Master's ...</td>\n",
       "      <td>Rural: Remote</td>\n",
       "      <td>Yes</td>\n",
       "      <td>3658.0</td>\n",
       "      <td>3173.0</td>\n",
       "      <td>40%</td>\n",
       "      <td>NaN</td>\n",
       "      <td>Fall 2012</td>\n",
       "      <td>$14,923</td>\n",
       "      <td>-</td>\n",
       "      <td>175342.0</td>\n",
       "      <td>239600.0</td>\n",
       "    </tr>\n",
       "    <tr>\n",
       "      <td>4</td>\n",
       "      <td>Angelo State University</td>\n",
       "      <td>2601 W. Avenue N, San Angelo, Texas 76909</td>\n",
       "      <td>www.angelo.edu</td>\n",
       "      <td>4-year, Public</td>\n",
       "      <td>Less than one year certificate|Bachelor's degr...</td>\n",
       "      <td>City: Midsize</td>\n",
       "      <td>Yes</td>\n",
       "      <td>10387.0</td>\n",
       "      <td>8672.0</td>\n",
       "      <td>34%</td>\n",
       "      <td>39%</td>\n",
       "      <td>Fall 2012</td>\n",
       "      <td>$11,558</td>\n",
       "      <td>-</td>\n",
       "      <td>222831.0</td>\n",
       "      <td>354100.0</td>\n",
       "    </tr>\n",
       "  </tbody>\n",
       "</table>\n",
       "</div>"
      ],
      "text/plain": [
       "                       Name  \\\n",
       "0  Alabama A & M University   \n",
       "1  Alabama State University   \n",
       "2   Albany State University   \n",
       "3   Alcorn State University   \n",
       "4   Angelo State University   \n",
       "\n",
       "                                             Address  \\\n",
       "0        4900 Meridian Street, Normal, Alabama 35762   \n",
       "1  915 S Jackson Street, Montgomery, Alabama 3610...   \n",
       "2           504 College Drive, Albany, Georgia 31705   \n",
       "3  1000 ASU Dr Ste 359, Alcorn State, Mississippi...   \n",
       "4          2601 W. Avenue N, San Angelo, Texas 76909   \n",
       "\n",
       "                    Website                                   Type  \\\n",
       "0             www.aamu.edu/                         4-year, Public   \n",
       "1             www.alasu.edu                         4-year, Public   \n",
       "2  https://www.asurams.edu/  4-year, primarily associate's, Public   \n",
       "3            www.alcorn.edu                         4-year, Public   \n",
       "4            www.angelo.edu                         4-year, Public   \n",
       "\n",
       "                                      Awards offered Campus setting  \\\n",
       "0  Less than one year certificate|Bachelor's degr...  City: Midsize   \n",
       "1  Bachelor's degree|Postbaccalaureate certificat...  City: Midsize   \n",
       "2  Less than one year certificate|One but less th...    City: Small   \n",
       "3  Associate's degree|Bachelor's degree|Master's ...  Rural: Remote   \n",
       "4  Less than one year certificate|Bachelor's degr...  City: Midsize   \n",
       "\n",
       "  Campus housing  Student population  Undergraduate students Graduation Rate  \\\n",
       "0            Yes              6106.0                  5143.0             27%   \n",
       "1            Yes              4413.0                  3903.0             30%   \n",
       "2            Yes              6371.0                  6001.0             19%   \n",
       "3            Yes              3658.0                  3173.0             40%   \n",
       "4            Yes             10387.0                  8672.0             34%   \n",
       "\n",
       "  Transfer-Out Rate Cohort Year * Net Price ** Largest Program  IPEDS ID  \\\n",
       "0               42%     Fall 2012     $13,956                -  100654.0   \n",
       "1               37%     Fall 2012     $13,029                -  100724.0   \n",
       "2               48%     Fall 2012     $12,569                -  138716.0   \n",
       "3               NaN     Fall 2012     $14,923                -  175342.0   \n",
       "4               39%     Fall 2012     $11,558                -  222831.0   \n",
       "\n",
       "     OPE ID  \n",
       "0  100200.0  \n",
       "1  100500.0  \n",
       "2  154400.0  \n",
       "3  239600.0  \n",
       "4  354100.0  "
      ]
     },
     "execution_count": 2,
     "metadata": {},
     "output_type": "execute_result"
    }
   ],
   "source": [
    "#filename1 = os.path.join(\"..\", \"School population by city.csv\")\n",
    "filename1 = os.path.join(\"..\", \"CollegeNavigator_Search_2020-01-12_17.22.27.csv\")\n",
    "df_student = pd.read_csv(filename1)\n",
    "df_student.head()"
   ]
  },
  {
   "cell_type": "code",
   "execution_count": 3,
   "metadata": {},
   "outputs": [],
   "source": [
    "cityval = []\n",
    "city_student = []"
   ]
  },
  {
   "cell_type": "code",
   "execution_count": 4,
   "metadata": {},
   "outputs": [],
   "source": [
    "# Create a dataframe with Cost of Living Index for all the cities \n",
    "\n",
    "filename = os.path.join(\"..\", \"Cost_Of_Living_Output_Data\", \"COLI.csv\")\n",
    "df_COLI_complete = pd.read_csv(filename)\n",
    "df_COLI_complete[\"City\"] = df_COLI_complete[\"City\"].str.slice(0, -4)\n",
    "df_COLI_complete = df_COLI_complete.drop([\"Rank\", \"City ID\", \"Country\", \"Purchasing Power\" ], axis =1)\n",
    "df_COLI_complete.head()\n",
    "cities = list(df_COLI_complete[\"City\"])"
   ]
  },
  {
   "cell_type": "code",
   "execution_count": 5,
   "metadata": {},
   "outputs": [
    {
     "data": {
      "text/plain": [
       "503"
      ]
     },
     "execution_count": 5,
     "metadata": {},
     "output_type": "execute_result"
    }
   ],
   "source": [
    "len(df_student[\"Address\"])"
   ]
  },
  {
   "cell_type": "code",
   "execution_count": 6,
   "metadata": {},
   "outputs": [],
   "source": [
    "len(cities)\n",
    "population = []"
   ]
  },
  {
   "cell_type": "code",
   "execution_count": 7,
   "metadata": {},
   "outputs": [],
   "source": [
    "for addr in df_student[\"Address\"]:\n",
    "    for val in cities:\n",
    "        if addr.find(\"val\") != -1:\n",
    "            cityval.append(val)\n",
    "            population.append(df_student[\"Student population\"])\n",
    "                  "
   ]
  },
  {
   "cell_type": "code",
   "execution_count": 8,
   "metadata": {},
   "outputs": [],
   "source": [
    "#for addr in df_student[\"Address\"]:\n",
    "    #cityval.append([val for val in cities if(val in str(addr))])\n",
    "    #cityval.append(any(ele in addr for ele in cities))\n",
    "#    cityval.append(s for s in cities if any(xs in s for xs in addr))"
   ]
  },
  {
   "cell_type": "code",
   "execution_count": 9,
   "metadata": {},
   "outputs": [
    {
     "data": {
      "text/plain": [
       "174"
      ]
     },
     "execution_count": 9,
     "metadata": {},
     "output_type": "execute_result"
    }
   ],
   "source": [
    "len(cityval)\n"
   ]
  },
  {
   "cell_type": "code",
   "execution_count": 13,
   "metadata": {},
   "outputs": [
    {
     "data": {
      "text/plain": [
       "174"
      ]
     },
     "execution_count": 13,
     "metadata": {},
     "output_type": "execute_result"
    }
   ],
   "source": [
    "len(population)\n",
    "cityval"
   ]
  },
  {
   "cell_type": "code",
   "execution_count": 18,
   "metadata": {},
   "outputs": [
    {
     "data": {
      "text/html": [
       "<div>\n",
       "<style scoped>\n",
       "    .dataframe tbody tr th:only-of-type {\n",
       "        vertical-align: middle;\n",
       "    }\n",
       "\n",
       "    .dataframe tbody tr th {\n",
       "        vertical-align: top;\n",
       "    }\n",
       "\n",
       "    .dataframe thead th {\n",
       "        text-align: right;\n",
       "    }\n",
       "</style>\n",
       "<table border=\"1\" class=\"dataframe\">\n",
       "  <thead>\n",
       "    <tr style=\"text-align: right;\">\n",
       "      <th></th>\n",
       "      <th>City</th>\n",
       "      <th>Student Population</th>\n",
       "    </tr>\n",
       "  </thead>\n",
       "  <tbody>\n",
       "    <tr>\n",
       "      <td>0</td>\n",
       "      <td>New York</td>\n",
       "      <td>0       6106.0\n",
       "1       4413.0\n",
       "2       6371.0\n",
       "3...</td>\n",
       "    </tr>\n",
       "    <tr>\n",
       "      <td>1</td>\n",
       "      <td>San Francisco</td>\n",
       "      <td>0       6106.0\n",
       "1       4413.0\n",
       "2       6371.0\n",
       "3...</td>\n",
       "    </tr>\n",
       "    <tr>\n",
       "      <td>2</td>\n",
       "      <td>Anchorage</td>\n",
       "      <td>0       6106.0\n",
       "1       4413.0\n",
       "2       6371.0\n",
       "3...</td>\n",
       "    </tr>\n",
       "    <tr>\n",
       "      <td>3</td>\n",
       "      <td>Honolulu</td>\n",
       "      <td>0       6106.0\n",
       "1       4413.0\n",
       "2       6371.0\n",
       "3...</td>\n",
       "    </tr>\n",
       "    <tr>\n",
       "      <td>4</td>\n",
       "      <td>Brooklyn</td>\n",
       "      <td>0       6106.0\n",
       "1       4413.0\n",
       "2       6371.0\n",
       "3...</td>\n",
       "    </tr>\n",
       "  </tbody>\n",
       "</table>\n",
       "</div>"
      ],
      "text/plain": [
       "            City                                 Student Population\n",
       "0       New York  0       6106.0\n",
       "1       4413.0\n",
       "2       6371.0\n",
       "3...\n",
       "1  San Francisco  0       6106.0\n",
       "1       4413.0\n",
       "2       6371.0\n",
       "3...\n",
       "2      Anchorage  0       6106.0\n",
       "1       4413.0\n",
       "2       6371.0\n",
       "3...\n",
       "3       Honolulu  0       6106.0\n",
       "1       4413.0\n",
       "2       6371.0\n",
       "3...\n",
       "4       Brooklyn  0       6106.0\n",
       "1       4413.0\n",
       "2       6371.0\n",
       "3..."
      ]
     },
     "execution_count": 18,
     "metadata": {},
     "output_type": "execute_result"
    }
   ],
   "source": [
    "student_data = {\"City\": cityval,\n",
    "        \"Student Population\": population\n",
    "       }\n",
    "df_student_city_population = pd.DataFrame(student_data)\n",
    "\n",
    "df_student_city_population.head()"
   ]
  },
  {
   "cell_type": "code",
   "execution_count": null,
   "metadata": {},
   "outputs": [],
   "source": []
  }
 ],
 "metadata": {
  "kernelspec": {
   "display_name": "matplotlib-hw",
   "language": "python",
   "name": "matplotlib-hw"
  },
  "language_info": {
   "codemirror_mode": {
    "name": "ipython",
    "version": 3
   },
   "file_extension": ".py",
   "mimetype": "text/x-python",
   "name": "python",
   "nbconvert_exporter": "python",
   "pygments_lexer": "ipython3",
   "version": "3.7.4"
  }
 },
 "nbformat": 4,
 "nbformat_minor": 4
}
