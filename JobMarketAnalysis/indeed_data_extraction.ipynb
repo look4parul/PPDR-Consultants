{
 "cells": [
  {
   "cell_type": "code",
   "execution_count": null,
   "metadata": {},
   "outputs": [],
   "source": [
    "# importing dependencies \n",
    "import pandas as pd\n",
    "from indeed import IndeedClient\n",
    "from config import publisher_key\n",
    "import requests\n",
    "import bs4\n",
    "import re\n",
    "from html.parser import HTMLParser\n",
    "def get_job_data(key, start, location, salary):\n",
    "    client = IndeedClient(publisher = key)\n",
    "    parameters = {'q' : \"title:data (science OR scientist)\"+ salary,\n",
    "                  'l' : location,\n",
    "                  'sort' : \"date\",\n",
    "                  'fromage' : \"119\",\n",
    "                  'toage' : \"0\",\n",
    "                  'limit' : \"25\",\n",
    "                  'userip' : \"192.168.0.58\",\n",
    "                  'useragent' : \"Mozilla/5.0 (Macintosh; Intel Mac OS X 10_14_6)\",\n",
    "                  'start': start\n",
    "                 }\n",
    "    search_results = client.search(**parameters)\n",
    "    jobs_df = pd.DataFrame(search_results['results'])\n",
    "    return jobs_df\n",
    "# defining a list of cities(locations) to be used for analysis\n",
    "cities = ['United States']\n",
    "# calling the function to find the total number of 'data' related jobs posted on Indeed.com in last 120 days for 10 cities\n",
    "total_job_count = 0\n",
    "city_job_count = 0\n",
    "for city in cities:\n",
    "    city_job_count = get_job_count(key=publisher_key, start=0, location=city, \"80000+\")\n",
    "    print(f'Total number of data jobs posted for {city} in last 120 days -', city_job_count)\n",
    "    total_job_count +=  city_job_count\n",
    "print('Total number of data job posted on Indeed.com in last 120 days for selected list of cities is: ', total_job_count)\n",
    "# calling function to get the details of all 'data' related jobs posted on Indeed.com in last 120 days for 10 cities\n",
    "# storing it in a dataframe\n",
    "data_jobs_df = pd.DataFrame()\n",
    "for city in cities:\n",
    "    start = 0\n",
    "    count = 0\n",
    "    city_job_count = get_job_count(key=publisher_key, start=0, location=city)\n",
    "    print(f'Total number of data jobs posted for {city} in last 120 days -', city_job_count)\n",
    "    count = (city_job_count // 25) + 1  \n",
    "    for i in range(0, count):\n",
    "        print(i, '-', start)\n",
    "        data_jobs = get_job_data(key=publisher_key, start=start, location=city)\n",
    "        data_jobs_df = data_jobs_df.append(data_jobs, ignore_index=True)\n",
    "        start += 25\n",
    "data_jobs_df.head(5)\n",
    "data_jobs_df.to_csv('../data/david_f_indeed_data.csv')"
   ]
  }
 ],
 "metadata": {
  "kernelspec": {
   "display_name": "pandas_pipenv",
   "language": "python",
   "name": "python3"
  },
  "language_info": {
   "codemirror_mode": {
    "name": "ipython",
    "version": 3
   },
   "file_extension": ".py",
   "mimetype": "text/x-python",
   "name": "python",
   "nbconvert_exporter": "python",
   "pygments_lexer": "ipython3",
   "version": "3.7.3"
  }
 },
 "nbformat": 4,
 "nbformat_minor": 4
}
