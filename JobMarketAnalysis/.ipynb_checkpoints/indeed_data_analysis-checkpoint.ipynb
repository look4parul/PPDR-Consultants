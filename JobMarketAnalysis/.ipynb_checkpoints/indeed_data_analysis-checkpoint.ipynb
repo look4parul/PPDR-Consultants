{
 "cells": [
  {
   "cell_type": "markdown",
   "metadata": {},
   "source": [
    "# Which cities are the best for data science jobs in the USA?\n",
    "* Parameters used to determine which cities are best:\n",
    "   * Cost of living\n",
    "   * Average Salary\n",
    "   * Number of jobs in each city for Data Science"
   ]
  },
  {
   "cell_type": "code",
   "execution_count": null,
   "metadata": {},
   "outputs": [],
   "source": [
    "# Import the dependencies\n",
    "import matplotlib.pyplot as plt\n",
    "import pandas as pd\n",
    "import numpy as np\n",
    "import requests\n",
    "import pprint\n",
    "import json\n",
    "import re\n",
    "import csv\n",
    "import os"
   ]
  },
  {
   "cell_type": "markdown",
   "metadata": {},
   "source": [
    "## Data pulled from Indeed API\n",
    "    * Number of jobs per city is calculated"
   ]
  },
  {
   "cell_type": "code",
   "execution_count": null,
   "metadata": {},
   "outputs": [],
   "source": [
    "# Exporting the data and creating a DataFrame\n",
    "df = pd.read_csv(\"Output_Files/indeed_data.csv\")\n",
    "indeed_df = df\n",
    "# Output File (CSV)\n",
    "output_data_file = \"../Output_Files/cleaned_indeed_jobs.csv\"\n",
    "indeed_df.drop(\"onmousedown\", axis=1, inplace=True)\n",
    "indeed_df.drop(\"indeedApply\", axis=1, inplace=True)\n",
    "indeed_df.drop(\"expired\", axis=1, inplace=True)\n",
    "indeed_df.drop(\"formattedLocationFull\", axis=1, inplace=True)\n",
    "unique_df = indeed_df.groupby([\"formattedLocation\"])[\"jobtitle\"].count()\n"
   ]
  },
  {
   "cell_type": "code",
   "execution_count": null,
   "metadata": {},
   "outputs": [],
   "source": [
    "name_list = [unique_df.index[i].split(', ') for i in range(0, len(unique_df.index))]\n",
    "name_list = [e[0] for e in name_list]\n",
    "unique_df.index = name_list\n",
    "unique_df = unique_df.to_frame()\n",
    "unique_df = unique_df.reset_index()\n",
    "unique_df.head()"
   ]
  },
  {
   "cell_type": "markdown",
   "metadata": {},
   "source": [
    "## Cost of Living for different cities is pulled from Numbeo API"
   ]
  },
  {
   "cell_type": "code",
   "execution_count": null,
   "metadata": {},
   "outputs": [],
   "source": [
    "# Create a dataframe with Cost of Living Index for all the cities \n",
    "df_COLI_complete = pd.read_csv(\"Output_Files/COLI.csv\")\n",
    "df_COLI_complete[\"City\"] = df_COLI_complete[\"City\"].str.slice(0, -4)\n",
    "df_COLI_complete = df_COLI_complete.drop([\"Rank\", \"City ID\", \"Country\", \"Purchasing Power\" ], axis =1)\n",
    "#df_COLI_complete.head()"
   ]
  },
  {
   "cell_type": "markdown",
   "metadata": {},
   "source": [
    "## Number of Students enrolled in 4 years degree Public university CSV pulled from \"National Center for Education Statistics\""
   ]
  },
  {
   "cell_type": "code",
   "execution_count": null,
   "metadata": {},
   "outputs": [],
   "source": [
    "df_student = pd.read_csv(\"Output_Files/School population by city.csv\")\n",
    "df_student = df_student.rename(columns={\"Row Labels\": \"City\"})\n",
    "\n",
    "df_student[\"City\"] =[df_student[\"City\"][i].lstrip() for i in range(0, len(df_student[\"City\"]))]\n",
    "df_student.head()"
   ]
  },
  {
   "cell_type": "markdown",
   "metadata": {},
   "source": [
    "## Merged the data for Cost of living, Number of Students"
   ]
  },
  {
   "cell_type": "code",
   "execution_count": null,
   "metadata": {},
   "outputs": [],
   "source": [
    "# Create a dataframe with Cost of Living Index and Student population for all the cities \n",
    "df_col_complete_student = pd.merge(df_COLI_complete, df_student, how=\"left\", on=\"City\")\n",
    "df_col_complete_student.head()"
   ]
  },
  {
   "cell_type": "markdown",
   "metadata": {},
   "source": [
    "# Merged the data for Cost of living, Number of Students and Number of Jobs on \"City\""
   ]
  },
  {
   "cell_type": "code",
   "execution_count": null,
   "metadata": {},
   "outputs": [],
   "source": [
    "df_coli_complete_student_jobs = pd.merge(df_col_complete_student, unique_df, how=\"left\", left_on=\"City\", right_on=\"index\")\n",
    "df_coli_complete_student_jobs.drop(\"index\", axis=1, inplace=True)\n",
    "df_coli_complete_student_jobs.rename(columns={\"jobtitle\": \"No.of Jobs\"}, inplace=True)\n",
    "df_coli_complete_student_jobs.head()"
   ]
  },
  {
   "cell_type": "code",
   "execution_count": null,
   "metadata": {},
   "outputs": [],
   "source": [
    "# Upload average salaries from glassdoor\n",
    "df_salary = pd.read_csv(\"Output_Files/COLI w average salary.csv\")\n",
    "\n",
    "df_salary[\"City\"] = [df_salary[\"City\"][i].split(', ')[0] for i in range(0, len(df_salary[\"City\"]))]\n",
    "#df_salary.head()"
   ]
  },
  {
   "cell_type": "markdown",
   "metadata": {},
   "source": [
    "## Merged the salary data from glassdoor to the dataframe"
   ]
  },
  {
   "cell_type": "code",
   "execution_count": null,
   "metadata": {},
   "outputs": [],
   "source": [
    "df_coli_complete_student_jobs_salary = pd.merge(df_coli_complete_student_jobs, df_salary, how=\"left\", left_on=\"City\", right_on=\"City\")\n",
    "df_coli_complete_student_jobs_salary = df_coli_complete_student_jobs_salary.drop([\"Rank\", \"City ID\", \"Country\", \"Purchasing Power\", \"Cost Of Living Index_y\"], axis =1)\n",
    "df_coli_complete_student_jobs_salary = df_coli_complete_student_jobs_salary.rename(columns={\"Cost Of Living Index_x\": \"Cost Of Living Index\"})\n",
    "df_coli_complete_student_jobs_salary.head()"
   ]
  },
  {
   "cell_type": "markdown",
   "metadata": {},
   "source": [
    "## Merged the Average Salary information"
   ]
  },
  {
   "cell_type": "code",
   "execution_count": null,
   "metadata": {},
   "outputs": [],
   "source": [
    "cities = df_COLI_complete[\"City\"]"
   ]
  },
  {
   "cell_type": "code",
   "execution_count": null,
   "metadata": {},
   "outputs": [],
   "source": [
    "avg_salary = [134331.00, 161743.00, 103574.00, 100336.00, 100336.00, 125697.00, 92615.00, 123915.00, 123915.00,\n",
    "              155451.00, 115912.00, 93041.00, 122194.00, 146202.00, 114914.00, 100372.00, 108227.00, 108994.00,\n",
    "              120914.00, 104564.00, 115589.00, 114337.00, 129231.00, 106862.00, 100161.00, 112906.00, 112906.00,\n",
    "              134233.00, 116869.00, 105176.00, 114054.00, 95440.00, 105575.00, 161022.00, 102829.00, 114153.00, \n",
    "              110652.00, 94649.00, 115614.00, 84254.00, 114744.00, 93872.00, 145960.00, 101190.00, 126357.00,\n",
    "              96366.00, 100331.00, 127686.00, 115351.00, 119778.00, 99338.00, 110173.00, 95783.00, 114947.00, \n",
    "              115129.00, 94929.00, 95729.00, 90917.00]"
   ]
  },
  {
   "cell_type": "code",
   "execution_count": null,
   "metadata": {},
   "outputs": [],
   "source": [
    "df_indeed_salary = pd.DataFrame({\"Avg Salary Indeed\": avg_salary,\n",
    "                                \"City\": cities\n",
    "                                })"
   ]
  },
  {
   "cell_type": "code",
   "execution_count": null,
   "metadata": {},
   "outputs": [],
   "source": [
    "df_col_complete_student_jobs_salary_final = pd.merge(df_coli_complete_student_jobs_salary, df_indeed_salary, how=\"left\", left_on=\"City\", right_on=\"City\")\n",
    "df_col_complete_student_jobs_salary_final = df_col_complete_student_jobs_salary_final[['City', 'No.of Jobs', 'Avg Salary Indeed', 'Cost Of Living Index',\n",
    "                                                'Sum of Student population', 'Data Science Average Salary', 'Data Scientist Low',\n",
    "                                                'Data Scientist High','Average Pay vs National Avg', 'Data Analyst Average Salary',\n",
    "                                                'Data Analyst Low', 'Data Analysts High', 'Average Pay vs National Avg.1', \n",
    "                                                'Data Engineer Average Salary','Data Engineer Low', 'Data Engineer High', \n",
    "                                                'Average Pay vs National Avg.2', 'Data Architect Average Salary', \n",
    "                                                'Data Architect Low', 'Data Architect High', 'Average Pay vs National Avg.3']]\n",
    "df_col_complete_student_jobs_salary_final.head()"
   ]
  },
  {
   "cell_type": "markdown",
   "metadata": {},
   "source": [
    "## Calculated the a Normalized Index as = (1/(%Cost Of Living Index)) x Avg Salary / NY Avg Salary"
   ]
  },
  {
   "cell_type": "code",
   "execution_count": null,
   "metadata": {},
   "outputs": [],
   "source": [
    "# Extracting the salary of New york into a variable\n",
    "New_York_Salary = df_col_complete_student_jobs_salary_final.loc[df_col_complete_student_jobs_salary_final['City'] == \"New York\"][\"Avg Salary Indeed\"]\n",
    "# Calculate the index based on average salary and cost of living of every city and normalize it for New york\n",
    "list = np.array([(100*df_col_complete_student_jobs_salary_final[\"Avg Salary Indeed\"][i]/\\\n",
    "                                                           df_col_complete_student_jobs_salary_final[\"Cost Of Living Index\"][i])/New_York_Salary for i in range(0,len(df_col_complete_student_jobs_salary_final))]).tolist()\n",
    "# Flattening the list of lists and assigning it to a new coloumn in dataframe\n",
    "df_col_complete_student_jobs_salary_final[\"SalaryCOLIndex\"] = [y for x in list for y in x]\n",
    "# Rearranging the order of the columns as desired\n",
    "df_col_complete_student_jobs_salary_final =df_col_complete_student_jobs_salary_final[['City', 'No.of Jobs', 'Avg Salary Indeed','Cost Of Living Index',\"SalaryCOLIndex\", 'Sum of Student population',\n",
    "        'Data Science Average Salary', 'Data Scientist Low',\n",
    "       'Data Scientist High', 'Average Pay vs National Avg',\n",
    "       'Data Analyst Average Salary', 'Data Analyst Low', 'Data Analysts High',\n",
    "       'Average Pay vs National Avg.1', 'Data Engineer Average Salary',\n",
    "       'Data Engineer Low', 'Data Engineer High',\n",
    "       'Average Pay vs National Avg.2', 'Data Architect Average Salary',\n",
    "       'Data Architect Low', 'Data Architect High',\n",
    "       'Average Pay vs National Avg.3']]\n",
    "#df_col_complete_student_jobs_salary_final.head()"
   ]
  },
  {
   "cell_type": "markdown",
   "metadata": {},
   "source": [
    "## Complete dataFrame"
   ]
  },
  {
   "cell_type": "code",
   "execution_count": null,
   "metadata": {},
   "outputs": [],
   "source": [
    "df_col_complete_student_jobs_salary_final.head()"
   ]
  },
  {
   "cell_type": "code",
   "execution_count": null,
   "metadata": {},
   "outputs": [],
   "source": [
    "df_col_complete_student_jobs_salary_final = df_col_complete_student_jobs_salary_final.sort_values(by=['No.of Jobs'], ascending=False)\n",
    "df_col_complete_student_jobs_salary_final.head()"
   ]
  },
  {
   "cell_type": "markdown",
   "metadata": {},
   "source": [
    "# Graph for cities Vs. Normalized Cost Of Living ndex"
   ]
  },
  {
   "cell_type": "code",
   "execution_count": null,
   "metadata": {},
   "outputs": [],
   "source": [
    "# Graph to plot number of cureent jobs Vs Citites\n",
    "df_SalaryCOLIndex_Cities = df_col_complete_student_jobs_salary_final.sort_values(by=['SalaryCOLIndex'], ascending=False)\n",
    "#df_SalaryCOLIndex_Cities.columns\n",
    "df_SalaryCOLIndex_Cities = df_SalaryCOLIndex_Cities[['City', 'No.of Jobs', 'Avg Salary Indeed','Cost Of Living Index',\"SalaryCOLIndex\"]]\n",
    "df_SalaryCOLIndex_Cities.head()\n",
    "#df_final[\"SalaryCOLIndex\"].values\n",
    "plt.figure(figsize=(20,10))\n",
    "plt.xlabel(\"City\")\n",
    "plt.title(\"City Vs Cost Of lIving Index\")\n",
    "plt.xticks(rotation='vertical')\n",
    "# plt.yticks(ticks=df_final[\"SalaryCOLIndex\"], labels=df_final[\"SalaryCOLIndex\"].values.tolist())\n",
    "plt.bar(df_SalaryCOLIndex_Cities[\"City\"],df_SalaryCOLIndex_Cities[\"SalaryCOLIndex\"] -1)\n",
    "plt.show()\n",
    "# Save t he plots in another folder\n",
    "plt.savefig(\"Plots/CitiesVsCOLI.png\")"
   ]
  },
  {
   "cell_type": "markdown",
   "metadata": {},
   "source": [
    "# Graph to plot education requuirements with count for DataScience jobs"
   ]
  },
  {
   "cell_type": "code",
   "execution_count": null,
   "metadata": {},
   "outputs": [],
   "source": [
    "# Education requirement for the Jobs\n",
    "def has_bachelor(s):\n",
    "    return (\n",
    "        bool(re.search(r\"bachelors?'?s?\", s, re.IGNORECASE)) or\n",
    "        bool(re.search(r\"\\sB\\.?A\\.?\\s\", s, re.IGNORECASE)) or\n",
    "        bool(re.search(r\"\\sB\\.?S\\.?\\s\", s, re.IGNORECASE))\n",
    "    )\n",
    "def has_masters(s):\n",
    "    return (\n",
    "        bool(re.search(r\"masters?'?s?\\s\", s, re.IGNORECASE)) or\n",
    "        bool(re.search(r\"\\sM\\.?A\\.?\\s\", s, re.IGNORECASE)) or\n",
    "        bool(re.search(r\"\\sM\\.?S\\.?\\s\", s, re.IGNORECASE)) or\n",
    "        bool(re.search(r\"M\\.?B\\.?A\\.?\\s\", s, re.IGNORECASE))\n",
    "    )\n",
    "def has_phd(s):\n",
    "    return(\n",
    "        (bool(re.search(r\"Ph\\.?d\", s, re.IGNORECASE))) \n",
    "    )\n",
    "education_df = pd.DataFrame({\n",
    "    \"Bachelor's\": indeed_df[\"snippet\"].apply(has_bachelor).value_counts(())[1],\n",
    "    \"Master's\": indeed_df[\"snippet\"].apply(has_masters).value_counts(())[1],\n",
    "    \"Phd\": indeed_df[\"snippet\"].apply(has_phd).value_counts(())[1],\n",
    "},index=[\"Count\"])\n",
    "education_df.plot(kind='bar', figsize=(16,8))\n",
    "education_df\n",
    "# Save t he plots in another folder\n",
    "plt.savefig(\"Plots/EducationVSCount.png\")"
   ]
  },
  {
   "cell_type": "markdown",
   "metadata": {},
   "source": [
    "# Number of years of experience requirement for the Jobs"
   ]
  },
  {
   "cell_type": "code",
   "execution_count": null,
   "metadata": {},
   "outputs": [],
   "source": [
    "def extract_years_only(s):\n",
    "    results = re.findall(r\"([0-9]*)\\+?.[yY]ear.*\", s)\n",
    "    if results and results[0]:\n",
    "        return int(results[0])\n",
    "    else:\n",
    "        return np.nan"
   ]
  },
  {
   "cell_type": "code",
   "execution_count": null,
   "metadata": {},
   "outputs": [],
   "source": [
    "years = df[\"snippet\"].apply(lambda s: extract_years_only(s))\n",
    "df_years=pd.DataFrame(years.value_counts().sort_index())"
   ]
  },
  {
   "cell_type": "code",
   "execution_count": null,
   "metadata": {},
   "outputs": [],
   "source": [
    "df_years=df_years.rename(columns={\"snippet\":\"No. of jobs\"})\n",
    "df_years.index.name =\"Required No.of Years of Experience\"\n",
    "df_years.plot(kind='bar', figsize=(16,8))\n",
    "# Save t he plots in another folder\n",
    "plt.savefig(\"Plots/YearsofExpVsJobCount.png\")"
   ]
  },
  {
   "cell_type": "code",
   "execution_count": null,
   "metadata": {},
   "outputs": [],
   "source": [
    "df_years[\"No. of jobs\"].sum()"
   ]
  },
  {
   "cell_type": "markdown",
   "metadata": {},
   "source": [
    "# Which Technology skills are in most demand"
   ]
  },
  {
   "cell_type": "code",
   "execution_count": null,
   "metadata": {},
   "outputs": [],
   "source": [
    "def extract_tech_count(s, tech):\n",
    "    result_count = re.findall(tech, s)\n",
    "\n",
    "    if result_count:\n",
    "        return len(result_count)\n",
    "    else:\n",
    "        return np.nan"
   ]
  },
  {
   "cell_type": "code",
   "execution_count": null,
   "metadata": {},
   "outputs": [],
   "source": [
    "df_tech = pd.DataFrame(columns={\"Tech\", \"No.ofJobs\"})\n",
    "tech_list = [\"Python\",\" R \",\"SQL\",\"Tableau\", \"Java\", \"AWS\", \"Hadoop\", \"Spark\", \"Machine Learning\", \"AI\", \"Excel\"]\n",
    "\n",
    "sample = df[\"snippet\"]\n",
    "\n",
    "for tech in tech_list:\n",
    "    count =0\n",
    "    job_tech = sample.apply(lambda s: extract_tech_count(s, tech))\n",
    "  \n",
    "    for i in range(0, len(job_tech)):\n",
    "   \n",
    "        if(pd.notna(job_tech[i])):\n",
    "            count += 1\n",
    "        else:\n",
    "            continue\n",
    "    tech_list_count = pd.DataFrame({\"Tech\":[tech], \"No.ofJobs\":[count]})\n",
    "    df_tech = df_tech.append(tech_list_count)\n",
    "\n",
    "df_tech = df_tech.sort_values(by = \"No.ofJobs\", ascending = False)\n",
    "df_tech.set_index(\"Tech\")\n",
    "plt.figure(figsize=(16,8))\n",
    "plt.bar(df_tech[\"Tech\"],df_tech[\"No.ofJobs\"] )\n",
    "plt.xticks(rotation=45)\n",
    "# Save t he plots in another folder\n",
    "plt.savefig(\"Plots/TechnologyVsCount.png\")"
   ]
  },
  {
   "cell_type": "code",
   "execution_count": null,
   "metadata": {},
   "outputs": [],
   "source": []
  }
 ],
 "metadata": {
  "kernelspec": {
   "display_name": "matplotlib-hw",
   "language": "python",
   "name": "matplotlib-hw"
  },
  "language_info": {
   "codemirror_mode": {
    "name": "ipython",
    "version": 3
   },
   "file_extension": ".py",
   "mimetype": "text/x-python",
   "name": "python",
   "nbconvert_exporter": "python",
   "pygments_lexer": "ipython3",
   "version": "3.7.4"
  }
 },
 "nbformat": 4,
 "nbformat_minor": 4
}
